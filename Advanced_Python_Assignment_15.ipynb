{
 "cells": [
  {
   "cell_type": "markdown",
   "id": "ab0192cc",
   "metadata": {},
   "source": [
    "### 1. What are the new features added in Python 3.8 version?\n",
    "1. Positional-only parameters(/)\n",
    "2. Assignment Expressions(:=)\n",
    "3. f-strings now support “=”\n",
    "4. reversed() works with a dictionary\n",
    "5. No parentheses for return and yield statements\n",
    "6. Syntax Warning\n",
    "7. importlib_metadata\n",
    "8. Many built-in methods and functions have been speed up by 20% to 50%.\n",
    "9. Newly created lists are now on average 12% smaller than before\n",
    "10. Writes to class variables are much faster in Python 3.8."
   ]
  },
  {
   "cell_type": "markdown",
   "id": "3c380b03",
   "metadata": {},
   "source": [
    "### 2. What is monkey patching in Python?\n",
    "- Monkey Patching : in Python the term monkey patch refers to dynamic (or run-time) modifications of a class or module."
   ]
  },
  {
   "cell_type": "code",
   "execution_count": 1,
   "id": "2894a713",
   "metadata": {},
   "outputs": [
    {
     "data": {
      "text/plain": [
       "'inside test function'"
      ]
     },
     "execution_count": 1,
     "metadata": {},
     "output_type": "execute_result"
    }
   ],
   "source": [
    "class A:\n",
    "    def test():\n",
    "        return f\"inside test function\"\n",
    "def func():\n",
    "    return f\"inside func function\"\n",
    "\n",
    "A.test()"
   ]
  },
  {
   "cell_type": "code",
   "execution_count": 2,
   "id": "762cb8f1",
   "metadata": {},
   "outputs": [
    {
     "data": {
      "text/plain": [
       "'inside func function'"
      ]
     },
     "execution_count": 2,
     "metadata": {},
     "output_type": "execute_result"
    }
   ],
   "source": [
    "A.test = func\n",
    "A.test()"
   ]
  },
  {
   "cell_type": "markdown",
   "id": "c238281e",
   "metadata": {},
   "source": [
    "### 3. What is the difference between a shallow copy and deep copy?\n",
    "__shallow copy :__\n",
    "- means the copy operation where all the elements of a list is copied, but the elements which are lists in both original and copied lists still refers to the same location.\n",
    "- the change of a list element in any of the list will reflect in the other one.\n",
    "\n",
    "__deep copy :__\n",
    "- means the elements of a list is also copied but none of the elements from both lists refers to the same location.\n",
    "- because of both are completely independent lists, change does not affect the other one."
   ]
  },
  {
   "cell_type": "markdown",
   "id": "a3f21452",
   "metadata": {},
   "source": [
    "### 4. What is the maximum possible length of an identifier?\n",
    "In Python, the highest possible length of an identifier is 79 characters."
   ]
  },
  {
   "cell_type": "markdown",
   "id": "64684ea5",
   "metadata": {},
   "source": [
    "### 5. What is generator comprehension?\n",
    "The generator comprehension is a one liner code kept inside parenthesis, used to create a generator object ."
   ]
  },
  {
   "cell_type": "code",
   "execution_count": 3,
   "id": "035c51b2",
   "metadata": {},
   "outputs": [],
   "source": [
    "g = (i for i in range(1,11))"
   ]
  },
  {
   "cell_type": "code",
   "execution_count": 5,
   "id": "b530d2eb",
   "metadata": {},
   "outputs": [
    {
     "data": {
      "text/plain": [
       "generator"
      ]
     },
     "execution_count": 5,
     "metadata": {},
     "output_type": "execute_result"
    }
   ],
   "source": [
    "type(g)"
   ]
  },
  {
   "cell_type": "code",
   "execution_count": 4,
   "id": "28dfd610",
   "metadata": {},
   "outputs": [
    {
     "name": "stdout",
     "output_type": "stream",
     "text": [
      "1\n",
      "2\n",
      "3\n",
      "4\n",
      "5\n",
      "6\n",
      "7\n",
      "8\n",
      "9\n",
      "10\n"
     ]
    }
   ],
   "source": [
    "for j in g:\n",
    "    print(j)"
   ]
  }
 ],
 "metadata": {
  "kernelspec": {
   "display_name": "Python 3 (ipykernel)",
   "language": "python",
   "name": "python3"
  },
  "language_info": {
   "codemirror_mode": {
    "name": "ipython",
    "version": 3
   },
   "file_extension": ".py",
   "mimetype": "text/x-python",
   "name": "python",
   "nbconvert_exporter": "python",
   "pygments_lexer": "ipython3",
   "version": "3.10.6"
  }
 },
 "nbformat": 4,
 "nbformat_minor": 5
}
