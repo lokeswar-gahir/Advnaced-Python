{
 "cells": [
  {
   "cell_type": "markdown",
   "id": "12765dd1",
   "metadata": {},
   "source": [
    "### Q1. Is it permissible to use several import statements to import the same module? What would the goal be? Can you think of a situation where it would be beneficial?\n",
    "- Yes, it is possible to use several import statement to import the same module.\n",
    "- We use this when we want to use more than one function or class of same module.<br>\n",
    "Ex- \n",
    "```python\n",
    "from time import time\n",
    "from time import sleep\n",
    "```"
   ]
  },
  {
   "cell_type": "markdown",
   "id": "e135f5c6",
   "metadata": {},
   "source": [
    "### Q2. What are some of a module&#39;s characteristics? (Name at least one.)\n",
    "- \\_\\_name\\_\\_ : It returns the name of the module\n",
    "- \\_\\_doc\\_\\_ : It denotes the documentation string line written in a module code.\n",
    "- \\_\\_file\\_\\_ : It holds the name and path of the module file from which it is loaded\n",
    "- \\_\\_dict\\_\\_ : It return a dictionary object of module attributes, functions and other definitions and their respective values"
   ]
  },
  {
   "cell_type": "markdown",
   "id": "ecf32b95",
   "metadata": {},
   "source": [
    "### Q3. Circular importing, such as when two modules import each other, can lead to dependencies and bugs that aren&#39;t visible. How can you go about creating a program that avoids mutual importing?\n",
    "We can use \"if \\_\\_name\\_\\_ == '\\_\\_main\\_\\_' \" to avoid the circular importing."
   ]
  },
  {
   "cell_type": "markdown",
   "id": "7569d486",
   "metadata": {},
   "source": [
    "### Q4. Why is \\_\\_all\\_\\_ in Python?\n",
    "- Inside a module \\_\\_all\\_\\_ is a list of functions and classes.\n",
    "- \\_\\_all\\_\\_ affects the `from <module> import *` behavior only.\n",
    "- Functions or classes that are not mentioned in \\_\\_all\\_\\_ list are still accessible from outside the module and can be imported with `from <module> import <function or class>`."
   ]
  },
  {
   "cell_type": "markdown",
   "id": "fe4bf078",
   "metadata": {},
   "source": [
    "### Q5. In what situation is it useful to refer to the \\_\\_name\\_\\_ attribute or the string &#39;\\_\\_main\\_\\_&#39;?\n",
    "we use the conditional if \\_\\_name\\_\\_ == \"\\_\\_main\\_\\_\": to alter the behavior of modules when we are testing them and when they are being imported."
   ]
  },
  {
   "cell_type": "markdown",
   "id": "65b95a11",
   "metadata": {},
   "source": [
    "### Q6. What are some of the benefits of attaching a program counter to the RPN interpreter application, which interprets an RPN script line by line?\n",
    "- RPN saves time and keystrokes. You avoid using and keeping track of parentheses while doing calculations. \n",
    "- The process is similar to the way you learned math on paper. You can see the intermediary results as you perform your computations rather than just the answer at the end."
   ]
  },
  {
   "cell_type": "markdown",
   "id": "b9f9cc87",
   "metadata": {},
   "source": [
    "### Q7. What are the minimum expressions or statements (or both) that you&#39;d need to render a basic programming language like RPN primitive but complete— that is, capable of carrying out any computerised task theoretically possible?\n",
    "Notations : +, -, /, *\n",
    "- These are the basic notations we require to carry out a computerised task , like RPN Primitive.\n",
    "- We also need a particular data structure for storing elements from a statements except operators"
   ]
  }
 ],
 "metadata": {
  "kernelspec": {
   "display_name": "Python 3 (ipykernel)",
   "language": "python",
   "name": "python3"
  },
  "language_info": {
   "codemirror_mode": {
    "name": "ipython",
    "version": 3
   },
   "file_extension": ".py",
   "mimetype": "text/x-python",
   "name": "python",
   "nbconvert_exporter": "python",
   "pygments_lexer": "ipython3",
   "version": "3.10.6"
  }
 },
 "nbformat": 4,
 "nbformat_minor": 5
}
