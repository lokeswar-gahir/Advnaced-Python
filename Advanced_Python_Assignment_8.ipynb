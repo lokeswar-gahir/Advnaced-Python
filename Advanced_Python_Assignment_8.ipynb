{
 "cells": [
  {
   "cell_type": "raw",
   "id": "d64d6501",
   "metadata": {},
   "source": [
    "Q1. What are the two latest user-defined exception constraints in Python 3.X?\n",
    "\n",
    "Q2. How are class-based exceptions that have been raised matched to handlers?\n",
    "\n",
    "Q3. Describe two methods for attaching context information to exception artefacts.\n",
    "\n",
    "Q4. Describe two methods for specifying the text of an exception object&#39;s error message.\n",
    "\n",
    "Q5. Why do you no longer use string-based exceptions?"
   ]
  },
  {
   "cell_type": "markdown",
   "id": "86c1c64f",
   "metadata": {},
   "source": [
    "### Q1. What are the two latest user-defined exception constraints in Python 3.X?\n",
    "raise and assert are the two latest user-defined exception constraints in Python 3.X."
   ]
  },
  {
   "cell_type": "markdown",
   "id": "910033be",
   "metadata": {},
   "source": [
    "### Q2. How are class-based exceptions that have been raised matched to handlers?\n",
    "class-based exceptions that have been raised matched to handlers because they inherits from in-built Exception class."
   ]
  },
  {
   "cell_type": "markdown",
   "id": "7bff91d4",
   "metadata": {},
   "source": [
    "### Q3. Describe two methods for attaching context information to exception artefacts.\n",
    "1. We can use user defined exceptions to add the context of the exception\n",
    "2. logging.error() can also be used to addd the information about the exception"
   ]
  },
  {
   "cell_type": "markdown",
   "id": "72af3896",
   "metadata": {},
   "source": [
    "### Q4. Describe two methods for specifying the text of an exception object&#39;s error message.\n",
    "1. raise: used to raise manual exceptions with error error message\n",
    "2. assert: raises assertion error with error message"
   ]
  },
  {
   "cell_type": "code",
   "execution_count": 1,
   "id": "e538c164",
   "metadata": {},
   "outputs": [
    {
     "ename": "error_",
     "evalue": "some error message!",
     "output_type": "error",
     "traceback": [
      "\u001b[1;31m---------------------------------------------------------------------------\u001b[0m",
      "\u001b[1;31merror_\u001b[0m                                    Traceback (most recent call last)",
      "Input \u001b[1;32mIn [1]\u001b[0m, in \u001b[0;36m<cell line: 5>\u001b[1;34m()\u001b[0m\n\u001b[0;32m      2\u001b[0m     \u001b[38;5;28;01mdef\u001b[39;00m \u001b[38;5;21m__init__\u001b[39m(\u001b[38;5;28mself\u001b[39m,msg):\n\u001b[0;32m      3\u001b[0m         \u001b[38;5;28;01mpass\u001b[39;00m\n\u001b[1;32m----> 5\u001b[0m \u001b[38;5;28;01mraise\u001b[39;00m error_(\u001b[38;5;124m\"\u001b[39m\u001b[38;5;124msome error message!\u001b[39m\u001b[38;5;124m\"\u001b[39m)\n",
      "\u001b[1;31merror_\u001b[0m: some error message!"
     ]
    }
   ],
   "source": [
    "class error_(Exception):\n",
    "    def __init__(self,msg):\n",
    "        pass\n",
    "\n",
    "raise error_(\"some error message!\")"
   ]
  },
  {
   "cell_type": "code",
   "execution_count": 2,
   "id": "6221c55b",
   "metadata": {},
   "outputs": [
    {
     "ename": "AssertionError",
     "evalue": "some error message from assert",
     "output_type": "error",
     "traceback": [
      "\u001b[1;31m---------------------------------------------------------------------------\u001b[0m",
      "\u001b[1;31mAssertionError\u001b[0m                            Traceback (most recent call last)",
      "Input \u001b[1;32mIn [2]\u001b[0m, in \u001b[0;36m<cell line: 1>\u001b[1;34m()\u001b[0m\n\u001b[1;32m----> 1\u001b[0m \u001b[38;5;28;01massert\u001b[39;00m \u001b[38;5;28;01mFalse\u001b[39;00m, \u001b[38;5;124m\"\u001b[39m\u001b[38;5;124msome error message from assert\u001b[39m\u001b[38;5;124m\"\u001b[39m\n",
      "\u001b[1;31mAssertionError\u001b[0m: some error message from assert"
     ]
    }
   ],
   "source": [
    "assert False, \"some error message from assert\""
   ]
  },
  {
   "cell_type": "markdown",
   "id": "51ab8dc3",
   "metadata": {},
   "source": [
    "### Q5. Why do you no longer use string-based exceptions?\n",
    "String-based Exceptions doesn't inherit from Exceptions."
   ]
  }
 ],
 "metadata": {
  "kernelspec": {
   "display_name": "Python 3 (ipykernel)",
   "language": "python",
   "name": "python3"
  },
  "language_info": {
   "codemirror_mode": {
    "name": "ipython",
    "version": 3
   },
   "file_extension": ".py",
   "mimetype": "text/x-python",
   "name": "python",
   "nbconvert_exporter": "python",
   "pygments_lexer": "ipython3",
   "version": "3.10.6"
  }
 },
 "nbformat": 4,
 "nbformat_minor": 5
}
