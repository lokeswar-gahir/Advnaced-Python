{
 "cells": [
  {
   "cell_type": "markdown",
   "id": "20b79caa",
   "metadata": {},
   "source": [
    "### Q1. Which two operator overloading methods can you use in your classes to support iteration?\n",
    "The two methods \"\\_\\_iter\\_\\_\" and \"\\_\\_next\\_\\_\" can be used to support iterations."
   ]
  },
  {
   "cell_type": "markdown",
   "id": "1139e374",
   "metadata": {},
   "source": [
    "### Q2. In what contexts do the two operator overloading methods manage printing?\n",
    "Two methods that can be used to manage printing are:\n",
    "1. \\_\\_str__\n",
    "2. \\_\\_repr__"
   ]
  },
  {
   "cell_type": "markdown",
   "id": "1508d96a",
   "metadata": {},
   "source": [
    "### Q3. In a class, how do you intercept slice operations?\n",
    "Using slice() in \\_\\_getitem__ method is used for intercept slice operation.\n",
    " - Example: \\_\\_getitem__(slice())"
   ]
  },
  {
   "cell_type": "markdown",
   "id": "a7931485",
   "metadata": {},
   "source": [
    "### Q4. In a class, how do you capture in-place addition?\n",
    "With the help of \\_\\_iadd__ method in place addition is operated."
   ]
  },
  {
   "cell_type": "markdown",
   "id": "438eef20",
   "metadata": {},
   "source": [
    "### Q5. When is it appropriate to use operator overloading?\n",
    "Operator overloading is used when we want to use an operator to function differently than its actual behaviour."
   ]
  }
 ],
 "metadata": {
  "kernelspec": {
   "display_name": "Python 3 (ipykernel)",
   "language": "python",
   "name": "python3"
  },
  "language_info": {
   "codemirror_mode": {
    "name": "ipython",
    "version": 3
   },
   "file_extension": ".py",
   "mimetype": "text/x-python",
   "name": "python",
   "nbconvert_exporter": "python",
   "pygments_lexer": "ipython3",
   "version": "3.10.6"
  }
 },
 "nbformat": 4,
 "nbformat_minor": 5
}
