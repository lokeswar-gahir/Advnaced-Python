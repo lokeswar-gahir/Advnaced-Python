{
 "cells": [
  {
   "cell_type": "markdown",
   "id": "5aa44edb",
   "metadata": {},
   "source": [
    "### Q1. Explain the difference between greedy and non-greedy syntax with visual terms in as few words as possible. What is the bare minimum effort required to transform a greedy pattern into a non-greedy one? What characters or characters can you introduce or change?\n",
    "- Greedy syntax try to match as much character as possible,where as non-greedy syntax try to match less characters.\n",
    "- To transform a greedy pattern into a non-greedy we simply add a ?(question mark) before the end matching character."
   ]
  },
  {
   "cell_type": "code",
   "execution_count": 1,
   "id": "19bc7f7d",
   "metadata": {},
   "outputs": [
    {
     "data": {
      "text/plain": [
       "['<html><head> head content </head><body> body content </body></html>']"
      ]
     },
     "execution_count": 1,
     "metadata": {},
     "output_type": "execute_result"
    }
   ],
   "source": [
    "import re\n",
    "s1 = '<html><head> head content </head><body> body content </body></html>'\n",
    "match1 = re.findall(r'<.+>',s1)\n",
    "match1"
   ]
  },
  {
   "cell_type": "code",
   "execution_count": 2,
   "id": "63582e5a",
   "metadata": {},
   "outputs": [
    {
     "data": {
      "text/plain": [
       "1"
      ]
     },
     "execution_count": 2,
     "metadata": {},
     "output_type": "execute_result"
    }
   ],
   "source": [
    "len(match1)"
   ]
  },
  {
   "cell_type": "code",
   "execution_count": 3,
   "id": "672f5393",
   "metadata": {},
   "outputs": [
    {
     "data": {
      "text/plain": [
       "['<html>', '<head>', '</head>', '<body>', '</body>', '</html>']"
      ]
     },
     "execution_count": 3,
     "metadata": {},
     "output_type": "execute_result"
    }
   ],
   "source": [
    "s1 = '<html><head> head content </head><body> body content </body></html>'\n",
    "match2 = re.findall(r'<.+?>',s1)\n",
    "match2"
   ]
  },
  {
   "cell_type": "code",
   "execution_count": 4,
   "id": "18608f34",
   "metadata": {},
   "outputs": [
    {
     "data": {
      "text/plain": [
       "['<html>', '<head>', '</head>', '<body>', '</body>', '</html>']"
      ]
     },
     "execution_count": 4,
     "metadata": {},
     "output_type": "execute_result"
    }
   ],
   "source": [
    "s1 = '<html><head> head content </head><body> body content </body></html>'\n",
    "match2 = re.findall(r'<.+?>',s1)\n",
    "match2"
   ]
  },
  {
   "cell_type": "code",
   "execution_count": 6,
   "id": "8ead474f",
   "metadata": {},
   "outputs": [
    {
     "data": {
      "text/plain": [
       "6"
      ]
     },
     "execution_count": 6,
     "metadata": {},
     "output_type": "execute_result"
    }
   ],
   "source": [
    "len(match2)"
   ]
  },
  {
   "cell_type": "markdown",
   "id": "fa73fabe",
   "metadata": {},
   "source": [
    "### Q2. When exactly does greedy versus non-greedy make a difference?  What if you&#39;re looking for a non-greedy match but the only one available is greedy?\n",
    "- When we want to match multiple matches then we use non-greedy syntax, when only one match of all the matches is convinient then greedy is a good choice.\n",
    "- I will add a ?(quenstion mark) to change its behaviour."
   ]
  },
  {
   "cell_type": "markdown",
   "id": "4d4f2aec",
   "metadata": {},
   "source": [
    "### Q3. In a simple match of a string, which looks only for one match and does not do any replacement, is the use of a nontagged group likely to make any practical difference?\n",
    "There will be no difference."
   ]
  },
  {
   "cell_type": "markdown",
   "id": "3baff329",
   "metadata": {},
   "source": [
    "### Q4. Describe a scenario in which using a nontagged category would have a significant impact on the program&#39;s outcomes."
   ]
  },
  {
   "cell_type": "code",
   "execution_count": 11,
   "id": "93b6ff64",
   "metadata": {},
   "outputs": [
    {
     "data": {
      "text/plain": [
       "('135', '456')"
      ]
     },
     "execution_count": 11,
     "metadata": {},
     "output_type": "execute_result"
    }
   ],
   "source": [
    "s2 = '135.456'\n",
    "pat = r'(\\d+)(?:.)(\\d+)'\n",
    "r_obj = re.compile(pattern)\n",
    "m = r_obj.search(s2)\n",
    "m.groups()"
   ]
  },
  {
   "cell_type": "markdown",
   "id": "5050b0d4",
   "metadata": {},
   "source": [
    "### Q5. Unlike a normal regex pattern, a look-ahead condition does not consume the characters it examines. Describe a situation in which this could make a difference in the results of your programme.\n",
    "While counting the number of multiple lines or mutiple sentences in a string, the positive look ahead makes a difference, without which we will not be able to get the correct count of lines or sentences in a string."
   ]
  },
  {
   "cell_type": "markdown",
   "id": "69fca115",
   "metadata": {},
   "source": [
    "### Q6. In standard expressions, what is the difference between positive look-ahead and negative look- ahead?\n",
    "- __positive look-ahead__ : it matches the values which are after the given pattern\n",
    "- __negative look-ahead__ : it matches the values which are present before the given pattern"
   ]
  },
  {
   "cell_type": "markdown",
   "id": "02a703a4",
   "metadata": {},
   "source": [
    "### Q7. What is the benefit of referring to groups by name rather than by number in a standard expression?\n",
    "Referring to groups by name rather than by number in a standard expression helps to keep the code clear and easy to understand."
   ]
  },
  {
   "cell_type": "markdown",
   "id": "0f02cd1d",
   "metadata": {},
   "source": [
    "### Q8. Can you identify repeated items within a target string using named groups, as in &quot;The cow jumped over the moon&quot;?"
   ]
  },
  {
   "cell_type": "code",
   "execution_count": 12,
   "id": "aa9d4c2a",
   "metadata": {},
   "outputs": [
    {
     "data": {
      "text/plain": [
       "['The', 'the']"
      ]
     },
     "execution_count": 12,
     "metadata": {},
     "output_type": "execute_result"
    }
   ],
   "source": [
    "s3 = \"The cow jumped over the moon\"\n",
    "compiled = re.compile(r'(?P<repeat>the)',re.I)\n",
    "compiled.findall(s3)"
   ]
  },
  {
   "cell_type": "markdown",
   "id": "4ab622b4",
   "metadata": {},
   "source": [
    "### Q9. When parsing a string, what is at least one thing that the Scanner interface does for you that the re.findall feature does not?\n",
    "- re.findall() module is used to search for all occurrences that match a given pattern.\n",
    "- re.search() will only return the first occurrence that matches the specified pattern.\n",
    "- re.findall() will iterate over all the lines of the file and will return all non-overlapping matches of pattern in a single step."
   ]
  },
  {
   "cell_type": "markdown",
   "id": "47e52f07",
   "metadata": {},
   "source": [
    "### Q10. Does a scanner object have to be named scanner?\n",
    "It can have any name."
   ]
  }
 ],
 "metadata": {
  "kernelspec": {
   "display_name": "Python 3 (ipykernel)",
   "language": "python",
   "name": "python3"
  },
  "language_info": {
   "codemirror_mode": {
    "name": "ipython",
    "version": 3
   },
   "file_extension": ".py",
   "mimetype": "text/x-python",
   "name": "python",
   "nbconvert_exporter": "python",
   "pygments_lexer": "ipython3",
   "version": "3.10.6"
  }
 },
 "nbformat": 4,
 "nbformat_minor": 5
}
