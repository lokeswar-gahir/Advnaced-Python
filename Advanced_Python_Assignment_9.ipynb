{
 "cells": [
  {
   "cell_type": "markdown",
   "id": "4de082cf",
   "metadata": {},
   "source": [
    "### Q1. In Python 3.X, what are the names and functions of string object types?\n",
    "\n",
    "In python 3.X, string object has name of \"str\".\n",
    "\n",
    "Here are the functions:\n",
    "\n",
    "<stirng>.isdecimal():\n",
    "                Returns True if all characters in a string are decimal.\n",
    "    \n",
    "<string>.isalnum():\n",
    "                Returns True if all characters in the string are AlphaNumeric.\n",
    "    \n",
    "<string>.istitle():\n",
    "                Returns True if first character in a string is in Uppercase.\n",
    "    \n",
    "<string>.partition(<sub_string>):\n",
    "                Splits string at first occurance of sub string and returns a tuple of 3 elements.\n",
    "    \n",
    "<string>.rpartition(<sub_string>):\n",
    "                Splits string at last occurance of sub string and returns a tuple of 3 elements.\n",
    "    \n",
    "<string>.isidentifier():\n",
    "                Returns True if give string is a valid identifier name.\n",
    "    \n",
    "len(<string>):\n",
    "                Returns the length of the given string.\n",
    "    \n",
    "<string>.index(<sub_string>):\n",
    "                Returns the lowest index of substring if substring is found in the string.\n",
    "    \n",
    "<string>.rindex(<sub_string>):\n",
    "                Returns the highest index of substring if substring is found in the string.\n",
    "    \n",
    "max(<string>):\n",
    "                Returns the highest Alphabetical Character in the string as per ASCII.\n",
    "    \n",
    "min(<string>):\n",
    "                Returns the lowest Alphabetical Character in the string as per ASCII.\n",
    "    \n",
    "<string>.splitlines():\n",
    "                Returns a list of lines in the string.\n",
    "    \n",
    "<string>.capitalize():\n",
    "                Returns the string with first character capitalized.\n",
    "    \n",
    "<string>.upper():\n",
    "                Returns the string with all characters in uppercase.\n",
    "    \n",
    "<string>.lower():\n",
    "                Returns the string with all characters in lowercase\n",
    "    \n",
    "<string>.casefold():\n",
    "                Returns the string in lowercase which can be used for caseless comparisions.\n",
    "    \n",
    "<string>.expandtabs(no_of_spaces):\n",
    "                Replaces tabs in a string with specified no of spaces default is 8\n",
    "    \n",
    "<string>.find(<sub_string>):\n",
    "                Returns lowest index of substring if substring is found in the string else returns -1.\n",
    "    \n",
    "<string>.rfind(<sub_string>):\n",
    "                Returns highest index of substring if substring is found in the string else returns -1.\n",
    "    \n",
    "<string>.count(<char>):\n",
    "                Returns the no of occurances of the char in the given string.\n",
    "    \n",
    "<string>.split(<sep>):\n",
    "                Returns list of words seperated by given sep else seperated by whitespace.\n",
    "    \n",
    "<string>.rsplit(<sep>):\n",
    "                Returns list of words seperated by given sep else seperated by whitespace scanning from end.\n",
    "    \n",
    "<string>.lstrip():\n",
    "                Returns a copy of where leading whitespaces are removed.\n",
    "    \n",
    "<string>.rstrip():\n",
    "                Returns a copy of where trailed whitespaces are removed.\n",
    "    \n",
    "<string>.strip():\n",
    "                Returns a copy of where both leading and trailing whitespaces are removed.\n",
    "    \n",
    "<string>.swapcase():\n",
    "                Swaps lowercase characters with uppercase and vice versa.\n",
    "    \n",
    "<sep>.join(<list>):\n",
    "                Concatenates a list or tuple of words with intervening occuernces of sep.\n",
    "    \n",
    "<string>.translate(<mapping_table>):\n",
    "                translates the characters using table.\n",
    "    \n",
    "<string>.maketrans(<dict>):\n",
    "                Creating a mapping translation tbale usable for <string>.translate(<mapping_table>)\n",
    "    \n",
    "<string>.replace(<char_1>,<char_2>):\n",
    "                Replace all occurances of char_1 with char_2 in string.\n",
    "    \n",
    "<string>.encode():\n",
    "                Encodes string into any encoding supported by python. Default encoding is UTF-8.\n",
    "    \n",
    "<string>.ljust(<no_of_spaces>):\n",
    "                Left-justify in a field of given width.\n",
    "    \n",
    "<string>.rjust(<no_of_spaces>):\n",
    "                Right-justify in a field of given width.\n",
    "    \n",
    "<string>.center(<no_of_spaces>):\n",
    "                Center-justify in a field of given width.\n",
    "    \n",
    "<stirng>.zfill(<length>):\n",
    "                Zfill adds zeros to the begining of string until the specified length is reached."
   ]
  },
  {
   "cell_type": "markdown",
   "id": "7fe3427f",
   "metadata": {},
   "source": [
    "### Q2. How do the string forms in Python 3.X vary in terms of operations?\n",
    "Since string object is immutable, it does not change its form untill re-assignment operation."
   ]
  },
  {
   "cell_type": "markdown",
   "id": "138020b5",
   "metadata": {},
   "source": [
    "### Q3. In 3.X, how do you put non-ASCII Unicode characters in a string?\n",
    "__encoding():__ strings can be converted to bytecode<br>\n",
    "__decoding():__ non-ASCII Unicode characters can be converted to string."
   ]
  },
  {
   "cell_type": "code",
   "execution_count": 1,
   "id": "c389a48d",
   "metadata": {},
   "outputs": [
    {
     "data": {
      "text/plain": [
       "b'\\xec\\x96\\xb4\\xeb\\x96\\xbb\\xea\\xb2\\x8c'"
      ]
     },
     "execution_count": 1,
     "metadata": {},
     "output_type": "execute_result"
    }
   ],
   "source": [
    "string = \"어떻게\"# korean\n",
    "en_str = string.encode()\n",
    "en_str"
   ]
  },
  {
   "cell_type": "code",
   "execution_count": 2,
   "id": "677e313e",
   "metadata": {},
   "outputs": [
    {
     "data": {
      "text/plain": [
       "'어떻게'"
      ]
     },
     "execution_count": 2,
     "metadata": {},
     "output_type": "execute_result"
    }
   ],
   "source": [
    "de_str = en_str.decode()\n",
    "de_str"
   ]
  },
  {
   "cell_type": "markdown",
   "id": "865e2c8b",
   "metadata": {},
   "source": [
    "### Q4. In Python 3.X, what are the key differences between text-mode and binary-mode files?\n",
    "- text-mode files: these files generally contains english alphabets(both upper and lower case), digits, special symbols.\n",
    "- binary-mode files: these files contains bytes or  compiled text data."
   ]
  },
  {
   "cell_type": "markdown",
   "id": "7ba79670",
   "metadata": {},
   "source": [
    "### Q5. How can you interpret a Unicode text file containing text encoded in a different encoding than your platform&#39;s default?\n",
    "when reading the file, we can specify the encoding format in which the file is written.<br>\n",
    "example: open(\"file.name\",encoding = \"utf-16\")"
   ]
  },
  {
   "cell_type": "markdown",
   "id": "54dbeff9",
   "metadata": {},
   "source": [
    "### Q6. What is the best way to make a Unicode text file in a particular encoding format?\n",
    "1. First convert the text to the desired unicode format using encode() method\n",
    "2. Add that formated text to the file\n",
    "\n",
    "Now we got the unicode text file of a particular format."
   ]
  },
  {
   "cell_type": "markdown",
   "id": "5836481f",
   "metadata": {},
   "source": [
    "### Q7. What qualifies ASCII text as a form of Unicode text?\n",
    "- The first 128 Unicode code points represent the equivalent ASCII characters.\n",
    "- They have the same meaning in both ASCII and unicode.\n",
    "- any ASCII text is also a UTF-8 text, ASCII is the subset of unicode."
   ]
  },
  {
   "cell_type": "markdown",
   "id": "3ab41139",
   "metadata": {},
   "source": [
    "### Q8. How much of an effect does the change in string types in Python 3.X have on your code?\n",
    "The change in string types in Python 3.X does not affect me at all. Because I do not deal with unicode much."
   ]
  }
 ],
 "metadata": {
  "kernelspec": {
   "display_name": "Python 3 (ipykernel)",
   "language": "python",
   "name": "python3"
  },
  "language_info": {
   "codemirror_mode": {
    "name": "ipython",
    "version": 3
   },
   "file_extension": ".py",
   "mimetype": "text/x-python",
   "name": "python",
   "nbconvert_exporter": "python",
   "pygments_lexer": "ipython3",
   "version": "3.10.6"
  }
 },
 "nbformat": 4,
 "nbformat_minor": 5
}
