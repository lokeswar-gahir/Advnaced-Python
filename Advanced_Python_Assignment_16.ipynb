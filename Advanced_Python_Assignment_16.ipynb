{
 "cells": [
  {
   "cell_type": "raw",
   "id": "0a1a1356",
   "metadata": {},
   "source": [
    "Q1. What is the benefit of regular expressions?\n",
    "\n",
    "Q2. Describe the difference between the effects of &quot;(ab)c+&quot; and &quot;a(bc)+.&quot; Which of these, if any, is the\n",
    "unqualified pattern &quot;abc+&quot;?\n",
    "\n",
    "Q3. How much do you need to use the following sentence while using regular expressions?\n",
    "\n",
    "import re\n",
    "\n",
    "Q4. Which characters have special significance in square brackets when expressing a range, and\n",
    "under what circumstances?\n",
    "\n",
    "Q5. How does compiling a regular-expression object benefit you?\n",
    "\n",
    "Q6. What are some examples of how to use the match object returned by re.match and re.search?\n",
    "\n",
    "Q7. What is the difference between using a vertical bar (|) as an alteration and using square brackets\n",
    "as a character set?\n",
    "\n",
    "Q8. In regular-expression search patterns, why is it necessary to use the raw-string indicator (r)? In  \n",
    "replacement strings?"
   ]
  },
  {
   "cell_type": "markdown",
   "id": "109757a5",
   "metadata": {},
   "source": [
    "### Q1. What is the benefit of regular expressions?\n",
    "- Using regular expressions we can match patterns in a string and get the specific sub-string of a string.\n",
    "- It can aslo be called smart slicing, with pattern matching."
   ]
  },
  {
   "cell_type": "markdown",
   "id": "3ff0fc98",
   "metadata": {},
   "source": [
    "### Q2. Describe the difference between the effects of &quot;(ab)c+&quot; and &quot;a(bc)+.&quot; Which of these, if any, is the unqualified pattern &quot;abc+&quot;?\n",
    "- Both will return some values but output will be differcent.\n",
    "- \"(ab)c+\" will return \"ab\" as a group, \"a(bc)+\" will return \"bc\" as a group."
   ]
  },
  {
   "cell_type": "markdown",
   "id": "6e142fc3",
   "metadata": {},
   "source": [
    "### Q3. How much do you need to use the following sentence while using regular expressions?<br><br>import re\n",
    "We only need to use this code once while importing."
   ]
  },
  {
   "cell_type": "markdown",
   "id": "2da0dfc2",
   "metadata": {},
   "source": [
    "### Q4. Which characters have special significance in square brackets when expressing a range, and under what circumstances?\n",
    "- The characters having special meanings in square brackets are : .(dot), \\*(astrisk), ?(quention mark), ^(hat), ()(parenthesis), |(pipe operator).\n",
    "- These charachers needs to be escaped with a \\\\(backslash) while matching."
   ]
  },
  {
   "cell_type": "markdown",
   "id": "d79fd599",
   "metadata": {},
   "source": [
    "### Q5. How does compiling a regular-expression object benefit you?\n",
    "Not much because I do not use compile() often, rather I use findall()."
   ]
  },
  {
   "cell_type": "markdown",
   "id": "567081a6",
   "metadata": {},
   "source": [
    "### Q6. What are some examples of how to use the match object returned by re.match and re.search?"
   ]
  },
  {
   "cell_type": "code",
   "execution_count": 5,
   "id": "bbc76759",
   "metadata": {},
   "outputs": [
    {
     "data": {
      "text/plain": [
       "(0, 5)"
      ]
     },
     "execution_count": 5,
     "metadata": {},
     "output_type": "execute_result"
    }
   ],
   "source": [
    "import re\n",
    "s2 = \"hello there hello i am having fun what about you\"\n",
    "r = re.match(r\"hello\",s2)\n",
    "r.span()"
   ]
  },
  {
   "cell_type": "code",
   "execution_count": 6,
   "id": "6df3f4f7",
   "metadata": {},
   "outputs": [
    {
     "name": "stdout",
     "output_type": "stream",
     "text": [
      "(20, 22)\n"
     ]
    }
   ],
   "source": [
    "s1 = \"hello there hello i am having fun what about you\"\n",
    "r_obj = re.search(r\"am\",s1)\n",
    "print(r_obj.span())"
   ]
  },
  {
   "cell_type": "markdown",
   "id": "f8702523",
   "metadata": {},
   "source": [
    "### Q7. What is the difference between using a vertical bar (|) as an alteration and using square brackets as a character set?\n",
    "- When | us used then patterns searches for or option. i.e \\<pattern\\_1\\>|\\<pattern\\_2\\> means it searches as \\<pattern\\_1\\>or\\<pattern\\_2\\> in the searched string.\n",
    "- The first occurance of matched string will be returned as the Match Object.\n",
    "- Using Character set in square Brackets searches for all the character set in the square bracket and if match is found, it returns it."
   ]
  },
  {
   "cell_type": "markdown",
   "id": "7191ac44",
   "metadata": {},
   "source": [
    "### Q8. In regular-expression search patterns, why is it necessary to use the raw-string indicator (r)? In   replacement strings?\n",
    "It is used so that we do not need to escape the \\\\(backslash)."
   ]
  }
 ],
 "metadata": {
  "kernelspec": {
   "display_name": "Python 3 (ipykernel)",
   "language": "python",
   "name": "python3"
  },
  "language_info": {
   "codemirror_mode": {
    "name": "ipython",
    "version": 3
   },
   "file_extension": ".py",
   "mimetype": "text/x-python",
   "name": "python",
   "nbconvert_exporter": "python",
   "pygments_lexer": "ipython3",
   "version": "3.10.6"
  }
 },
 "nbformat": 4,
 "nbformat_minor": 5
}
