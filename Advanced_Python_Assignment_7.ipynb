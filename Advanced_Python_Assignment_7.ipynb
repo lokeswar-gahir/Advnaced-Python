{
 "cells": [
  {
   "cell_type": "markdown",
   "id": "d76803bc",
   "metadata": {},
   "source": [
    "### Q1. What is the purpose of the try statement?\n",
    "- try statement is the part of exception handling.\n",
    "- We have to use try and except both in order to perform exception handling.\n",
    "- Whatever is written inside try block, it try to execute it and if there is any exception occurs it sends the program execution to the except block."
   ]
  },
  {
   "cell_type": "markdown",
   "id": "d663cb7f",
   "metadata": {},
   "source": [
    "### Q2. What are the two most popular try statement variations?\n",
    "The try statement variations are:\n",
    "1. try, except\n",
    "2. try, except, finally\n",
    "3. try, except, finally, else"
   ]
  },
  {
   "cell_type": "markdown",
   "id": "723cbe62",
   "metadata": {},
   "source": [
    "### Q3. What is the purpose of the raise statement?\n",
    "The raise statement is used to manually invoke an exception."
   ]
  },
  {
   "cell_type": "markdown",
   "id": "9ea23a2c",
   "metadata": {},
   "source": [
    "### Q4. What does the assert statement do, and what other statement is it like?\n",
    "- The \"assert\" statement raises an assertion error if the condition given after the assert statement is found to be False.\n",
    "- Another statement is \"raise\" which functions the same way."
   ]
  },
  {
   "cell_type": "markdown",
   "id": "57d6ddad",
   "metadata": {},
   "source": [
    "### Q5. What is the purpose of the with/as argument, and what other statement is it like?\n",
    "- with/as is usually used while file handling.\n",
    "- After with/as statement a variable is expected which is pointer to the currently opened file."
   ]
  }
 ],
 "metadata": {
  "kernelspec": {
   "display_name": "Python 3 (ipykernel)",
   "language": "python",
   "name": "python3"
  },
  "language_info": {
   "codemirror_mode": {
    "name": "ipython",
    "version": 3
   },
   "file_extension": ".py",
   "mimetype": "text/x-python",
   "name": "python",
   "nbconvert_exporter": "python",
   "pygments_lexer": "ipython3",
   "version": "3.10.6"
  }
 },
 "nbformat": 4,
 "nbformat_minor": 5
}
