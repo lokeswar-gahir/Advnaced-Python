{
 "cells": [
  {
   "cell_type": "markdown",
   "id": "91ef020a",
   "metadata": {},
   "source": [
    "### Q1. What are the benefits of the built-in array package, if any?\n",
    "Benefits of array :\n",
    "- Arrays represent multiple data items of the same type using a single name.\n",
    "- In arrays, the elements can be accessed randomly by using the index number.\n",
    "- Arrays allocate memory in contiguous memory locations for all its elements, therefore there is no chance of extra memory being allocated in case of arrays. This avoids memory overflow or shortage of memory in arrays."
   ]
  },
  {
   "cell_type": "markdown",
   "id": "f1106bba",
   "metadata": {},
   "source": [
    "### Q2. What are some of the array package&#39;s limitations?\n",
    "Limitations of array :\n",
    "- The number of elements to be stored in an array should be known in advance.\n",
    "- An array is a static structure (which means the array is of fixed size).\n",
    "- Once declared the size of the array cannot be modified.\n",
    "- The memory which is allocated to it cannot be increased or decreased.\n"
   ]
  },
  {
   "cell_type": "markdown",
   "id": "b7e51a8e",
   "metadata": {},
   "source": [
    "### Q3. Describe the main differences between the array and numpy packages.\n",
    "Differences between array and numpy :\n",
    "- The array package doesn't provide any help with numerical calculation with the items insdie it in number form while numpy give you a wide variety of numerical operations.\n",
    "- An array is a single dimensional entity which hold the numerical data, while numpy can have more than 1 dimension.\n",
    "- In case of array, item can be accessed by its index position and it is easy task while in numpy item is accessed by its column and row index, which makes it slightly time taking.\n",
    "- Same goes with appending operation, in case of array we do not form a tabular structure, while in numpy it forms a tabular structure."
   ]
  },
  {
   "cell_type": "markdown",
   "id": "9cc22521",
   "metadata": {},
   "source": [
    "### Q4. Explain the distinctions between the empty, ones, and zeros functions.\n",
    "__Empty function__ is a function that have a name but does nothing. \"pass\" keyword is used to create these function otherwise it will throw an error.<br>\n",
    "__Ones function__ is a function in numpy that creates an numpy-array of given size and all the values are 1s.<br>\n",
    "__Zeros function__ is a function in numpy which creates an numpy-array of given size where all the elements have value of 0."
   ]
  },
  {
   "cell_type": "markdown",
   "id": "196ca5a2",
   "metadata": {},
   "source": [
    "### Q5. In the fromfunction function, which is used to construct new arrays, what is the role of the callable argument?\n",
    "Its function is to execute the function over each coordinate and the resulting array. The function is called with N parameters, where N is the rank of shape. Each parameter represents the coordinates of the array varying along a specific axis."
   ]
  },
  {
   "cell_type": "markdown",
   "id": "ca237664",
   "metadata": {},
   "source": [
    "### Q6. What happens when a numpy array is combined with a single-value operand (a scalar, such as an int or a floating-point value) through addition, as in the expression A + n?\n",
    "This operation will act as a metric addition. Where all the elements of the array will be added with the single value and return a numpy-array."
   ]
  },
  {
   "cell_type": "code",
   "execution_count": 1,
   "id": "498c8b91",
   "metadata": {},
   "outputs": [
    {
     "data": {
      "text/plain": [
       "array([ 5,  8, 11, 14, 17])"
      ]
     },
     "execution_count": 1,
     "metadata": {},
     "output_type": "execute_result"
    }
   ],
   "source": [
    "import numpy\n",
    "A = numpy.array([3,6,9,12,15])\n",
    "A+2"
   ]
  },
  {
   "cell_type": "markdown",
   "id": "f0e19534",
   "metadata": {},
   "source": [
    "### Q7. Can array-to-scalar operations use combined operation-assign operators (such as += or \\*=)? What is the outcome?\n",
    "Yes, this will work but the returned numpy array willbe assigned again to the array."
   ]
  },
  {
   "cell_type": "code",
   "execution_count": 2,
   "id": "57ecfe0b",
   "metadata": {},
   "outputs": [
    {
     "data": {
      "text/plain": [
       "array([7, 6, 5, 4, 3])"
      ]
     },
     "execution_count": 2,
     "metadata": {},
     "output_type": "execute_result"
    }
   ],
   "source": [
    "arr = numpy.array([5,4,3,2,1])\n",
    "arr += 2\n",
    "arr"
   ]
  },
  {
   "cell_type": "markdown",
   "id": "906aaf4b",
   "metadata": {},
   "source": [
    "### Q8. Does a numpy array contain fixed-length strings? What happens if you allocate a longer string to one of these arrays?\n",
    "- Yes, it is possible that we can include a string of fixed length in numpy array.\n",
    "- The dtype of any numpy array containing string values is the maximum length of any string present in the array.\n",
    "- Once set, it will only be able to store new string having length not more than the maximum length at the time of the creation. - If we try to reassign some another string value having length greater than the maximum length of the existing elements, it simply discards all the values beyond the maximum length accept upto those values which are under the limit."
   ]
  },
  {
   "cell_type": "code",
   "execution_count": 4,
   "id": "ab6efbfa",
   "metadata": {},
   "outputs": [
    {
     "data": {
      "text/plain": [
       "array(['hello', 'mercy'], dtype='<U5')"
      ]
     },
     "execution_count": 4,
     "metadata": {},
     "output_type": "execute_result"
    }
   ],
   "source": [
    "aa = numpy.array([\"hii\",\"mercy\"])\n",
    "aa[0]=\"hello there\"\n",
    "aa"
   ]
  },
  {
   "cell_type": "markdown",
   "id": "4873e27c",
   "metadata": {},
   "source": [
    "### Q9. What happens when you combine two numpy arrays using an operation like addition (+) or multiplication (\\*)? What are the conditions for combining two numpy arrays?\n",
    "Doing this will add or multiply elements of same indices present in both the arrays.<br>\n",
    "__Conditions :__\n",
    "- numpy array should be of same size\n",
    "- elements should be numerical values"
   ]
  },
  {
   "cell_type": "markdown",
   "id": "fb0dcbff",
   "metadata": {},
   "source": [
    "### Q10. What is the best way to use a Boolean array to mask another array?\n",
    "Using masked_where of from numpy is the best way."
   ]
  },
  {
   "cell_type": "markdown",
   "id": "9a160ace",
   "metadata": {},
   "source": [
    "### Q11. What are three different ways to get the standard deviation of a wide collection of data using both standard Python and its packages? Sort the three of them by how quickly they execute.\n",
    "Three ways are:\n",
    "- By Numpy Array package\n",
    "- By math module\n",
    "- By doing normal calculation"
   ]
  },
  {
   "cell_type": "markdown",
   "id": "366cdec8",
   "metadata": {},
   "source": [
    "### 12. What is the dimensionality of a Boolean mask-generated array?\n",
    "It will be same as before."
   ]
  }
 ],
 "metadata": {
  "kernelspec": {
   "display_name": "Python 3 (ipykernel)",
   "language": "python",
   "name": "python3"
  },
  "language_info": {
   "codemirror_mode": {
    "name": "ipython",
    "version": 3
   },
   "file_extension": ".py",
   "mimetype": "text/x-python",
   "name": "python",
   "nbconvert_exporter": "python",
   "pygments_lexer": "ipython3",
   "version": "3.10.6"
  }
 },
 "nbformat": 4,
 "nbformat_minor": 5
}
