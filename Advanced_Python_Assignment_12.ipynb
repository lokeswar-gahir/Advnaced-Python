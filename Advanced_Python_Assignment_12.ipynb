{
 "cells": [
  {
   "cell_type": "markdown",
   "id": "870f9a68",
   "metadata": {},
   "source": [
    "### Q1. Does assigning a value to a string&#39;s indexed character violate Python&#39;s string immutability?\n",
    "- No, it does not violate python's string immutability.\n",
    "- Doing this will throw an error."
   ]
  },
  {
   "cell_type": "code",
   "execution_count": 1,
   "id": "29f29770",
   "metadata": {},
   "outputs": [
    {
     "name": "stdout",
     "output_type": "stream",
     "text": [
      "n\n"
     ]
    }
   ],
   "source": [
    "s1 = \"string_values\"\n",
    "print(s1[4])"
   ]
  },
  {
   "cell_type": "code",
   "execution_count": 3,
   "id": "bbe84fbb",
   "metadata": {},
   "outputs": [
    {
     "ename": "TypeError",
     "evalue": "'str' object does not support item assignment",
     "output_type": "error",
     "traceback": [
      "\u001b[1;31m---------------------------------------------------------------------------\u001b[0m",
      "\u001b[1;31mTypeError\u001b[0m                                 Traceback (most recent call last)",
      "Input \u001b[1;32mIn [3]\u001b[0m, in \u001b[0;36m<cell line: 1>\u001b[1;34m()\u001b[0m\n\u001b[1;32m----> 1\u001b[0m \u001b[43ms1\u001b[49m\u001b[43m[\u001b[49m\u001b[38;5;241;43m4\u001b[39;49m\u001b[43m]\u001b[49m\u001b[38;5;241m=\u001b[39m\u001b[38;5;124m\"\u001b[39m\u001b[38;5;124mb\u001b[39m\u001b[38;5;124m\"\u001b[39m\n",
      "\u001b[1;31mTypeError\u001b[0m: 'str' object does not support item assignment"
     ]
    }
   ],
   "source": [
    "s1[4]=\"b\""
   ]
  },
  {
   "cell_type": "code",
   "execution_count": 4,
   "id": "185b89b5",
   "metadata": {},
   "outputs": [
    {
     "data": {
      "text/plain": [
       "'string_values'"
      ]
     },
     "execution_count": 4,
     "metadata": {},
     "output_type": "execute_result"
    }
   ],
   "source": [
    "s1"
   ]
  },
  {
   "cell_type": "markdown",
   "id": "a30fa3aa",
   "metadata": {},
   "source": [
    "From above demonstration the string value remains same,it shows that string immutability does not allow to change the values of a string."
   ]
  },
  {
   "cell_type": "markdown",
   "id": "971b5877",
   "metadata": {},
   "source": [
    "### Q2. Does using the += operator to concatenate strings violate Python&#39;s string immutability? Why or why not?\n",
    "- The += operator does not violate python's string immutability, because this operator concatinates two strings and assign the concatinated value to the first string.\n",
    "- Here there is no operation is performed to change the value a string, that is why += operator does not violate string immutability."
   ]
  },
  {
   "cell_type": "markdown",
   "id": "80bd2138",
   "metadata": {},
   "source": [
    "### Q3. In Python, how many different ways are there to index a character?\n",
    "Using find(), and index() methods from string class we can get the index of a character."
   ]
  },
  {
   "cell_type": "markdown",
   "id": "fddc4ccc",
   "metadata": {},
   "source": [
    "### Q4. What is the relationship between indexing and slicing?\n",
    "Indexing is used to get only the single character, whereas slicing is used to get the sub-string of string\n",
    "- indexing: to get one character\n",
    "- slicing: to get multiple characters in a row"
   ]
  },
  {
   "cell_type": "markdown",
   "id": "16dc6119",
   "metadata": {},
   "source": [
    "### Q5. What is an indexed character&#39;s exact data type? What is the data form of a slicing-generated substring?\n",
    "- The datatype of indexed character is 'str'.\n",
    "- The datatype form of a slicing-generated substring is also 'str'."
   ]
  },
  {
   "cell_type": "code",
   "execution_count": 6,
   "id": "4ba7d2a6",
   "metadata": {},
   "outputs": [
    {
     "name": "stdout",
     "output_type": "stream",
     "text": [
      "datatype of indexed character : <class 'str'>\n",
      "datatype of sliced sub-string : <class 'str'>\n"
     ]
    }
   ],
   "source": [
    "s2 = \"good_boy\"\n",
    "print(f\"datatype of indexed character : {type(s2[2])}\")\n",
    "print(f\"datatype of sliced sub-string : {type(s2[3:6])}\")"
   ]
  },
  {
   "cell_type": "markdown",
   "id": "7e3447c8",
   "metadata": {},
   "source": [
    "### Q6. What is the relationship between string and character &quot;types&quot; in Python?\n",
    "- In python there is no character datatype\n",
    "- Everything enclosed between single quotes or double quotes is considered as 'str' datatype."
   ]
  },
  {
   "cell_type": "code",
   "execution_count": 7,
   "id": "23e8bd91",
   "metadata": {},
   "outputs": [
    {
     "name": "stdout",
     "output_type": "stream",
     "text": [
      "<class 'str'>\n",
      "<class 'str'>\n",
      "<class 'str'>\n"
     ]
    }
   ],
   "source": [
    "s3 = \"\"\n",
    "s4 = \"j\"\n",
    "s5 = \"hello world!\"\n",
    "print(type(s3))\n",
    "print(type(s4))\n",
    "print(type(s5))"
   ]
  },
  {
   "cell_type": "markdown",
   "id": "437180c0",
   "metadata": {},
   "source": [
    "### Q7. Identify at least two operators and one method that allow you to combine one or more smaller strings to create a larger string.\n",
    "Operators: \n",
    "- +(addition operator)\n",
    "- *\n",
    "\n",
    "method:\n",
    "- str.center("
   ]
  },
  {
   "cell_type": "code",
   "execution_count": 8,
   "id": "d2d2e1ca",
   "metadata": {},
   "outputs": [
    {
     "data": {
      "text/plain": [
       "'hello world'"
      ]
     },
     "execution_count": 8,
     "metadata": {},
     "output_type": "execute_result"
    }
   ],
   "source": [
    "s6 = \"hello \"\n",
    "s7 = \"world\"\n",
    "s6+s7"
   ]
  },
  {
   "cell_type": "code",
   "execution_count": 9,
   "id": "1e394415",
   "metadata": {},
   "outputs": [
    {
     "data": {
      "text/plain": [
       "'hi hi hi '"
      ]
     },
     "execution_count": 9,
     "metadata": {},
     "output_type": "execute_result"
    }
   ],
   "source": [
    "s8 = \"hi \"\n",
    "s8*3"
   ]
  },
  {
   "cell_type": "code",
   "execution_count": 10,
   "id": "084f4296",
   "metadata": {},
   "outputs": [
    {
     "data": {
      "text/plain": [
       "'            center            '"
      ]
     },
     "execution_count": 10,
     "metadata": {},
     "output_type": "execute_result"
    }
   ],
   "source": [
    "\"center\".center(30)"
   ]
  },
  {
   "cell_type": "markdown",
   "id": "a5dc4f63",
   "metadata": {},
   "source": [
    "### Q8. What is the benefit of first checking the target string with in or not in before using the index method to find a substring?\n",
    "- The in or not in keywords, will show that whether or not the sub-string is available in the target string.\n",
    "- If the sub-string is available then slicing operation is performed."
   ]
  },
  {
   "cell_type": "markdown",
   "id": "7b56ef35",
   "metadata": {},
   "source": [
    "### Q9. Which operators and built-in string methods produce simple Boolean (true/false) results?\n",
    "operators producing Boolean results:\n",
    "- <\n",
    "- \\>\n",
    "- <=\n",
    "- \\>= \n",
    "- ==\n",
    "- !=\n",
    "- and\n",
    "- or\n",
    "- not\n",
    "- is\n",
    "- is not\n",
    "- in\n",
    "- not in\n",
    "\n",
    "built-in string methods producing Boolean results:\n",
    "- isalnum()\n",
    "- isalpha()\n",
    "- isascii()\n",
    "- isdecimal()\n",
    "- isdigit()\n",
    "- isidentifier()\n",
    "- islower()\n",
    "- isnumeric()\n",
    "- isprintable()\n",
    "- isspace()\n",
    "- istitle()\n",
    "- isupper()"
   ]
  }
 ],
 "metadata": {
  "kernelspec": {
   "display_name": "Python 3 (ipykernel)",
   "language": "python",
   "name": "python3"
  },
  "language_info": {
   "codemirror_mode": {
    "name": "ipython",
    "version": 3
   },
   "file_extension": ".py",
   "mimetype": "text/x-python",
   "name": "python",
   "nbconvert_exporter": "python",
   "pygments_lexer": "ipython3",
   "version": "3.10.6"
  }
 },
 "nbformat": 4,
 "nbformat_minor": 5
}
