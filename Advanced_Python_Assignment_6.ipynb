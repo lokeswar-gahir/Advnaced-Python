{
 "cells": [
  {
   "cell_type": "markdown",
   "id": "39a419ac",
   "metadata": {},
   "source": [
    "### Q1. Describe three applications for exception processing.\n",
    "Exception handling can be used for :\n",
    "- Checking Appropriate use of input in an application\n",
    "- Checking for Arithmetic exceptions in mathematical executions\n",
    "- Checking File I/O exceptions during File handling"
   ]
  },
  {
   "cell_type": "markdown",
   "id": "fd0aae97",
   "metadata": {},
   "source": [
    "### Q2. What happens if you don&#39;t do something extra to treat an exception?\n",
    "- If the exception is not handeled properly, program execution can terminate with raising an error message.\n",
    "- This will stop the execution at the time of error is raised, so the code afterwards will not be executed. This may cause some issue."
   ]
  },
  {
   "cell_type": "markdown",
   "id": "0c6a4950",
   "metadata": {},
   "source": [
    "### Q3. What are your options for recovering from an exception in your script?\n",
    "We can use the standard 'try', 'except' keyword to get through this problem."
   ]
  },
  {
   "cell_type": "markdown",
   "id": "3d72ad71",
   "metadata": {},
   "source": [
    "### Q4. Describe two methods for triggering exceptions in your script.\n",
    "Two keywords using which we can manually trigger the exceptions are:\n",
    "1. raise\n",
    "2. assert"
   ]
  },
  {
   "cell_type": "markdown",
   "id": "e7ddafc4",
   "metadata": {},
   "source": [
    "### Q5. Identify two methods for specifying actions to be executed at termination time, regardless of whether or not an exception exists.\n",
    "Two methods are:\n",
    "1. else: executes if no exception is occured\n",
    "2. finally: this block executes regardless of exception occurance"
   ]
  }
 ],
 "metadata": {
  "kernelspec": {
   "display_name": "Python 3 (ipykernel)",
   "language": "python",
   "name": "python3"
  },
  "language_info": {
   "codemirror_mode": {
    "name": "ipython",
    "version": 3
   },
   "file_extension": ".py",
   "mimetype": "text/x-python",
   "name": "python",
   "nbconvert_exporter": "python",
   "pygments_lexer": "ipython3",
   "version": "3.10.6"
  }
 },
 "nbformat": 4,
 "nbformat_minor": 5
}
