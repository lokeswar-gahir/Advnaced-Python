{
 "cells": [
  {
   "cell_type": "markdown",
   "id": "04677bb6",
   "metadata": {},
   "source": [
    "### Q1. What is the distinction between a numpy array and a pandas data frame? Is there a way to convert between the two if there is?\n",
    "- Numpy array is an array like object which is used for faster calculation.\n",
    "- Pandas dataframe is the tabular representation in row and column format of any array like objects, csv_file, sql_database etc.\n",
    "- Using __pandas.DataFrame.values__  we can convert a pandas dataframe to a numpy array.\n",
    "- By numpy arrays to __pandas.DataFrame()__ we can convert a numpy array to a dataframe."
   ]
  },
  {
   "cell_type": "markdown",
   "id": "7e78491e",
   "metadata": {},
   "source": [
    "### Q2. What can go wrong when an user enters in a stock-ticker symbol, and how do you handle it?\n",
    "- Nothing will be wrong the entered stock-ticker symbol will be in string format.\n",
    "- we can use the try and except to handle any kind of exception."
   ]
  },
  {
   "cell_type": "markdown",
   "id": "e65a462d",
   "metadata": {},
   "source": [
    "### Q3. Identify some of the plotting techniques that are used to produce a stock-market chart.\n",
    "Bar chart, Line Chart are used  produce a stock-market chart in python."
   ]
  },
  {
   "cell_type": "markdown",
   "id": "2bba158e",
   "metadata": {},
   "source": [
    "### Q4. Why is it essential to print a legend on a stock market chart?\n",
    "To get the label of each line, we print legend."
   ]
  },
  {
   "cell_type": "markdown",
   "id": "14358fd1",
   "metadata": {},
   "source": [
    "### Q5. What is the best way to limit the length of a pandas data frame to less than a year?\n",
    "- We can use start and end parameters.\n",
    "- In start we write the date from where we are starting and at the end we write the end date.\n",
    "- SO within this span we can restric the duration.Also we can use the parameters like periods for how much times we need the duration and we can also use the frequency parameter."
   ]
  },
  {
   "cell_type": "markdown",
   "id": "4d38894a",
   "metadata": {},
   "source": [
    "### Q6. What is the definition of a 180-day moving average?\n",
    "180-day moving average is a technical analysis indicator that provides traders with important information on whether it is the best time to buy or sell assets based on the data of past 180 days. "
   ]
  },
  {
   "cell_type": "markdown",
   "id": "bd84bb04",
   "metadata": {},
   "source": [
    "### Q7. Did the chapter&#39;s final example use &quot;indirect&quot; importing? If so, how exactly do you do it?\n",
    "I did not use indirect import."
   ]
  }
 ],
 "metadata": {
  "kernelspec": {
   "display_name": "Python 3 (ipykernel)",
   "language": "python",
   "name": "python3"
  },
  "language_info": {
   "codemirror_mode": {
    "name": "ipython",
    "version": 3
   },
   "file_extension": ".py",
   "mimetype": "text/x-python",
   "name": "python",
   "nbconvert_exporter": "python",
   "pygments_lexer": "ipython3",
   "version": "3.10.6"
  }
 },
 "nbformat": 4,
 "nbformat_minor": 5
}
