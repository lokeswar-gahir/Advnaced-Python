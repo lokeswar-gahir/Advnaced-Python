{
 "cells": [
  {
   "cell_type": "markdown",
   "id": "7bb31e12",
   "metadata": {},
   "source": [
    "### Q1. What is the relationship between classes and modules?\n",
    "The difference between a class and a module in python is that a class is used to define a blueprint for a given object, whereas a module is used to reuse a given piece of code inside another program."
   ]
  },
  {
   "cell_type": "markdown",
   "id": "34fefd19",
   "metadata": {},
   "source": [
    "### Q2. How do you make instances and classes?"
   ]
  },
  {
   "cell_type": "code",
   "execution_count": 1,
   "id": "38beeffe",
   "metadata": {},
   "outputs": [],
   "source": [
    "class car:\n",
    "    def __init__(self, brand):\n",
    "        self.brand = brand\n",
    "    def info(self):\n",
    "        print(f\"this is {self.brand}.\")"
   ]
  },
  {
   "cell_type": "markdown",
   "id": "8e0ea774",
   "metadata": {},
   "source": [
    "Here car is a class."
   ]
  },
  {
   "cell_type": "code",
   "execution_count": 2,
   "id": "3d225dc4",
   "metadata": {},
   "outputs": [
    {
     "name": "stdout",
     "output_type": "stream",
     "text": [
      "this is Mercedees.\n"
     ]
    }
   ],
   "source": [
    "c1 = car(\"Mercedees\")\n",
    "c1.info()"
   ]
  },
  {
   "cell_type": "raw",
   "id": "dda41c34",
   "metadata": {},
   "source": [
    "here c1 is an instance."
   ]
  },
  {
   "cell_type": "markdown",
   "id": "7a48845c",
   "metadata": {},
   "source": [
    "### Q3. Where and how should be class attributes created?\n",
    "Inside the class attribute should be created usually before the constructor."
   ]
  },
  {
   "cell_type": "code",
   "execution_count": 4,
   "id": "503be613",
   "metadata": {},
   "outputs": [
    {
     "data": {
      "text/plain": [
       "2"
      ]
     },
     "execution_count": 4,
     "metadata": {},
     "output_type": "execute_result"
    }
   ],
   "source": [
    "class bike:\n",
    "    wheels = 2\n",
    "    def __init__(self):\n",
    "        pass\n",
    "\n",
    "b = bike()\n",
    "b.wheels"
   ]
  },
  {
   "cell_type": "markdown",
   "id": "1a17d4e1",
   "metadata": {},
   "source": [
    "Here wheels is the class attribute. It is same in all the object."
   ]
  },
  {
   "cell_type": "markdown",
   "id": "07444d30",
   "metadata": {},
   "source": [
    "### Q4. Where and how are instance attributes created?\n",
    "Inside the constructor method class attribute should be created."
   ]
  },
  {
   "cell_type": "code",
   "execution_count": 6,
   "id": "7c7578b8",
   "metadata": {},
   "outputs": [
    {
     "data": {
      "text/plain": [
       "'this animal has 4 legs.'"
      ]
     },
     "execution_count": 6,
     "metadata": {},
     "output_type": "execute_result"
    }
   ],
   "source": [
    "class animal:\n",
    "    def __init__(self,legs):\n",
    "        self.legs = legs\n",
    "    def info(self):\n",
    "        return f\"this animal has {self.legs} legs.\"\n",
    "tiger = animal(4)\n",
    "tiger.info()"
   ]
  },
  {
   "cell_type": "markdown",
   "id": "0df8eb71",
   "metadata": {},
   "source": [
    "Here \"legs\" is the instance attribute which can vary according to the object."
   ]
  },
  {
   "cell_type": "markdown",
   "id": "5c0b5ed2",
   "metadata": {},
   "source": [
    "### Q5. What does the term &quot;self&quot; in a Python class mean?\n",
    "- In a python class self refers to itself as an object.<br>\n",
    "- Using self the instance attributes can be accessed."
   ]
  },
  {
   "cell_type": "markdown",
   "id": "b58204cf",
   "metadata": {},
   "source": [
    "### Q6. How does a Python class handle operator overloading?\n",
    "- To perform operator overloading, Python provides some special function or magic function that is automatically invoked when it is associated with that particular operator.\n",
    "- For example, when we use + operator, the magic method add is automatically invoked in which the operation for + operator is defined."
   ]
  },
  {
   "cell_type": "markdown",
   "id": "e204d89a",
   "metadata": {},
   "source": [
    "### Q7. When do you consider allowing operator overloading of your classes?\n",
    "When we want to have different meaning for the same operator accroding to the context we use operator overloading."
   ]
  },
  {
   "cell_type": "markdown",
   "id": "87c465ae",
   "metadata": {},
   "source": [
    "### Q8. What is the most popular form of operator overloading?\n",
    "- Most popular form of operator overloading is of addition (+) operator.\n",
    "- When two integers are passed to + operator, it will return the sum of two integers.\n",
    "- When two strings are passed to + operator, it will return concatenation of two strings."
   ]
  },
  {
   "cell_type": "markdown",
   "id": "c81d44ae",
   "metadata": {},
   "source": [
    "### Q9. What are the two most important concepts to grasp in order to comprehend Python OOP code?\n",
    "The two important concept to grasp should be inheritance and encapsulation."
   ]
  }
 ],
 "metadata": {
  "kernelspec": {
   "display_name": "Python 3 (ipykernel)",
   "language": "python",
   "name": "python3"
  },
  "language_info": {
   "codemirror_mode": {
    "name": "ipython",
    "version": 3
   },
   "file_extension": ".py",
   "mimetype": "text/x-python",
   "name": "python",
   "nbconvert_exporter": "python",
   "pygments_lexer": "ipython3",
   "version": "3.10.6"
  }
 },
 "nbformat": 4,
 "nbformat_minor": 5
}
