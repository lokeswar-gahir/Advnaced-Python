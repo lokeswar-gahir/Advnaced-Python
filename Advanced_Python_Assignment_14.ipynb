{
 "cells": [
  {
   "cell_type": "markdown",
   "id": "51425887",
   "metadata": {},
   "source": [
    "### Q1. Is an assignment operator like += only for show? Is it possible that it would lead to faster results at the runtime?\n",
    "- The += operator is slightly faster than adding and then assignment operation.\n",
    "- Because in n = n+1 program has to look through the memory twice (once for getting the value and again for assigning the added value) whereas in the += operator the program has to look through the memory only once.\n",
    "- Difference of execution time is negligible."
   ]
  },
  {
   "cell_type": "markdown",
   "id": "3beaad44",
   "metadata": {},
   "source": [
    "### Q2. What is the smallest number of statements you&#39;d have to write in most programming languages to replace the Python expression a, b = a + b, a?\n",
    "The smallest number of statements will be : 3<br><br>\n",
    "temp = a<br>\n",
    "a = a+b<br>\n",
    "b=temp"
   ]
  },
  {
   "cell_type": "markdown",
   "id": "9e9c4da6",
   "metadata": {},
   "source": [
    "### Q3. In Python, what is the most effective way to set a list of 100 integers to 0?\n",
    "Using list comprehension: "
   ]
  },
  {
   "cell_type": "code",
   "execution_count": 1,
   "id": "c53aa6e4",
   "metadata": {},
   "outputs": [
    {
     "name": "stdout",
     "output_type": "stream",
     "text": [
      "[0, 0, 0, 0, 0, 0, 0, 0, 0, 0, 0, 0, 0, 0, 0, 0, 0, 0, 0, 0, 0, 0, 0, 0, 0, 0, 0, 0, 0, 0, 0, 0, 0, 0, 0, 0, 0, 0, 0, 0, 0, 0, 0, 0, 0, 0, 0, 0, 0, 0, 0, 0, 0, 0, 0, 0, 0, 0, 0, 0, 0, 0, 0, 0, 0, 0, 0, 0, 0, 0, 0, 0, 0, 0, 0, 0, 0, 0, 0, 0, 0, 0, 0, 0, 0, 0, 0, 0, 0, 0, 0, 0, 0, 0, 0, 0, 0, 0, 0, 0]\n"
     ]
    }
   ],
   "source": [
    "l1 = [0 for _ in range(100)]\n",
    "print(l1)"
   ]
  },
  {
   "cell_type": "markdown",
   "id": "1b14ebf0",
   "metadata": {},
   "source": [
    "### Q4. What is the most effective way to initialise a list of 99 integers that repeats the sequence 1, 2, 3? S If necessary, show step-by-step instructions on how to accomplish this."
   ]
  },
  {
   "cell_type": "code",
   "execution_count": 7,
   "id": "2697f04b",
   "metadata": {},
   "outputs": [
    {
     "name": "stdout",
     "output_type": "stream",
     "text": [
      "[1, 2, 3, 1, 2, 3, 1, 2, 3, 1, 2, 3, 1, 2, 3, 1, 2, 3, 1, 2, 3, 1, 2, 3, 1, 2, 3, 1, 2, 3, 1, 2, 3, 1, 2, 3, 1, 2, 3, 1, 2, 3, 1, 2, 3, 1, 2, 3, 1, 2, 3, 1, 2, 3, 1, 2, 3, 1, 2, 3, 1, 2, 3, 1, 2, 3, 1, 2, 3, 1, 2, 3, 1, 2, 3, 1, 2, 3, 1, 2, 3, 1, 2, 3, 1, 2, 3, 1, 2, 3, 1, 2, 3, 1, 2, 3, 1, 2, 3]\n"
     ]
    }
   ],
   "source": [
    "print([1,2,3]*int(99/3))"
   ]
  },
  {
   "cell_type": "markdown",
   "id": "234aeb7c",
   "metadata": {},
   "source": [
    "### Q5. If you&#39;re using IDLE to run a Python application, explain how to print a multidimensional list as efficiently?\n",
    "\\>\\>\\>a=[1,2,3,[4.1,4.2,4.3,4.4],5,6,[7.1,7.2]]<br>\n",
    "\\>\\>\\>a<br>\n",
    "[1,2,3,[4.1,4.2,4.3,4.4],5,6,[7.1,7.2]]"
   ]
  },
  {
   "cell_type": "markdown",
   "id": "8113fb38",
   "metadata": {},
   "source": [
    "### Q6. Is it possible to use list comprehension with a string? If so, how can you go about doing it?\n",
    "Yes, it is possible."
   ]
  },
  {
   "cell_type": "code",
   "execution_count": 8,
   "id": "f263ac0d",
   "metadata": {},
   "outputs": [
    {
     "data": {
      "text/plain": [
       "['h', 'e', 'l', 'l', 'o']"
      ]
     },
     "execution_count": 8,
     "metadata": {},
     "output_type": "execute_result"
    }
   ],
   "source": [
    "[i for i in \"hello\"]"
   ]
  },
  {
   "cell_type": "markdown",
   "id": "4ceeac2b",
   "metadata": {},
   "source": [
    "### Q7. From the command line, how do you get support with a user-written Python programme? Is this possible from inside IDLE?\n",
    "Steps for command line:\n",
    "\n",
    "    1. Open command prompt.\n",
    "    2. Go to the directory containing python program file(.py)\n",
    "    3. Type \"python file_name.py\", press enter to run the file.\n",
    "\n",
    "Steps for python IDLE:\n",
    "\n",
    "    1. Open python IDLE.\n",
    "    2. Click on file>open>file_name.py\n",
    "    3. Press F5 key to run the program."
   ]
  },
  {
   "cell_type": "markdown",
   "id": "64081454",
   "metadata": {},
   "source": [
    "### Q8. Functions are said to be “first-class objects” in Python but not in most other languages, such as C++ or Java. What can you do in Python with a function (callable object) that you can&#39;t do in C or C++?\n",
    "- In Python, functions are like any other object, such as an int or a list.\n",
    "- That means that you can use functions as arguments to other functions, store functions as dictionary values, or return a function from another function.\n",
    "- This leads to many powerful ways to use functions."
   ]
  },
  {
   "cell_type": "markdown",
   "id": "9a7dcf7f",
   "metadata": {},
   "source": [
    "### Q9. How do you distinguish between a wrapper, a wrapped feature, and a decorator?\n",
    "- A wrapper, a wrapped feature, and a decorator are all same.\n",
    "- They can be thought of as functions which modify the functionality of another function.\n",
    "- They help to make your code shorter and more \"Pythonic\"."
   ]
  },
  {
   "cell_type": "markdown",
   "id": "b021a151",
   "metadata": {},
   "source": [
    "### Q10. If a function is a generator function, what does it return?\n",
    "- The generator function returns a generator object.\n",
    "- By passing the generator object inside next() function we will be able to get the values that is being yielded."
   ]
  },
  {
   "cell_type": "markdown",
   "id": "5b46549e",
   "metadata": {},
   "source": [
    "### Q11. What is the one improvement that must be made to a function in order for it to become a generator function in the Python language?\n",
    "Instead of using return if yield is used then the function becomes generator function."
   ]
  },
  {
   "cell_type": "markdown",
   "id": "0c9fbeaf",
   "metadata": {},
   "source": [
    "### Q12. Identify at least one benefit of generators.\n",
    "When we only want to store a small amount of data inside RAM rather than the whole data we can use the generators to perform this task."
   ]
  }
 ],
 "metadata": {
  "kernelspec": {
   "display_name": "Python 3 (ipykernel)",
   "language": "python",
   "name": "python3"
  },
  "language_info": {
   "codemirror_mode": {
    "name": "ipython",
    "version": 3
   },
   "file_extension": ".py",
   "mimetype": "text/x-python",
   "name": "python",
   "nbconvert_exporter": "python",
   "pygments_lexer": "ipython3",
   "version": "3.10.6"
  }
 },
 "nbformat": 4,
 "nbformat_minor": 5
}
