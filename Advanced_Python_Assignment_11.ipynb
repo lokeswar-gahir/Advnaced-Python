{
 "cells": [
  {
   "cell_type": "markdown",
   "id": "eee87927",
   "metadata": {},
   "source": [
    "### Q1. What is the concept of a metaclass?\n",
    "- In python metaclass creates other classes.<br>\n",
    "- By default the metaclass parameter of a python class \"type\" is passed as argument."
   ]
  },
  {
   "cell_type": "code",
   "execution_count": 1,
   "id": "8e75a3ca",
   "metadata": {},
   "outputs": [],
   "source": [
    "class emp:\n",
    "    def __init__():\n",
    "        self.working = True"
   ]
  },
  {
   "cell_type": "markdown",
   "id": "dd6a4412",
   "metadata": {},
   "source": [
    "Above code is same as the below one:"
   ]
  },
  {
   "cell_type": "code",
   "execution_count": 3,
   "id": "6d0ce6c6",
   "metadata": {},
   "outputs": [],
   "source": [
    "class emp(object, metaclass = type):\n",
    "    def __init__():\n",
    "        self.working = True"
   ]
  },
  {
   "cell_type": "markdown",
   "id": "ea9d7f3b",
   "metadata": {},
   "source": [
    "### Q2. What is the best way to declare a class&#39;s metaclass?\n",
    "By specifing the value of metaclass parameter while creating the class as shown above."
   ]
  },
  {
   "cell_type": "code",
   "execution_count": 4,
   "id": "1c4023eb",
   "metadata": {},
   "outputs": [],
   "source": [
    "class emp(object, metaclass = type):\n",
    "    def __init__():\n",
    "        self.working = True"
   ]
  },
  {
   "cell_type": "markdown",
   "id": "4b717955",
   "metadata": {},
   "source": [
    "### Q3. How do class decorators overlap with metaclasses for handling classes?\n",
    "- Decorators and metaclases are quite similar to some degree.\n",
    "- When we want to apply some common functionality to attributes of the class instances, usage of decorators or metaclases does not matter.\n",
    "- There are some problems which can be solved by decorators as well as by metaclasses, but there are a few problems that can only be solved by metaclasses.\n",
    "- Use of metaclass affects its children while the decorator affects only the current class."
   ]
  },
  {
   "cell_type": "markdown",
   "id": "8e05fc59",
   "metadata": {},
   "source": [
    "### Q4. How do class decorators overlap with metaclasses for handling instances?\n",
    "Quite same thing applies to instances also as for the classes."
   ]
  }
 ],
 "metadata": {
  "kernelspec": {
   "display_name": "Python 3 (ipykernel)",
   "language": "python",
   "name": "python3"
  },
  "language_info": {
   "codemirror_mode": {
    "name": "ipython",
    "version": 3
   },
   "file_extension": ".py",
   "mimetype": "text/x-python",
   "name": "python",
   "nbconvert_exporter": "python",
   "pygments_lexer": "ipython3",
   "version": "3.10.6"
  }
 },
 "nbformat": 4,
 "nbformat_minor": 5
}
