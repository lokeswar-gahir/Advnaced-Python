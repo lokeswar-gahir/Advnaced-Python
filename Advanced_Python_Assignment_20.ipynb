{
 "cells": [
  {
   "cell_type": "markdown",
   "id": "df6a49cb",
   "metadata": {},
   "source": [
    "### 1. Compare and contrast the float and Decimal classes&#39; benefits and drawbacks.\n",
    "Both the float and decimal types store numerical values in Python.\n",
    "- float\n",
    " - Use floats when convenience and speed matter.\n",
    " - A float gives you an approximation of the number you declare.\n",
    "\n",
    "- decimal\n",
    " - Use decimals when precision matters.\n",
    " - Decimals can suffer from their own precision issues, but generally, decimals are more precise than floats.\n",
    " - The performance difference between float and decimal, with Python 3, is not outlandish, and in my experience, the precision benefits of a decimal outweigh the performance benefits of a float.\n",
    "\n"
   ]
  },
  {
   "cell_type": "markdown",
   "id": "2c27bfca",
   "metadata": {},
   "source": [
    "### 2. Decimal(&#39;1.200&#39;) and Decimal(&#39;1.2&#39;) are two objects to consider. In what sense are these the same object? Are these just two ways of representing the exact same value, or do they correspond to different internal states?\n",
    "Both values are same but internal representation at storage Is different. Precsion differs, Decimal('1.200') gives internally 1.200 and Decimal('1.2') gives 1.2."
   ]
  },
  {
   "cell_type": "markdown",
   "id": "64fcd1fd",
   "metadata": {},
   "source": [
    "### 3. What happens if the equality of Decimal(&#39;1.200&#39;) and Decimal(&#39;1.2&#39;) is checked?\n",
    "Doing this will return True."
   ]
  },
  {
   "cell_type": "markdown",
   "id": "1a09300b",
   "metadata": {},
   "source": [
    "### 4. Why is it preferable to start a Decimal object with a string rather than a floating-point value?\n",
    "To escape the absolute precision."
   ]
  },
  {
   "cell_type": "markdown",
   "id": "1ed05176",
   "metadata": {},
   "source": [
    "### 5. In an arithmetic phrase, how simple is it to combine Decimal objects with integers?\n",
    "- It is very simple.\n",
    "- We just have to pass the integer in the place of a float."
   ]
  },
  {
   "cell_type": "markdown",
   "id": "d0642fe5",
   "metadata": {},
   "source": [
    "### 6. Can Decimal objects and floating-point values be combined easily?\n",
    "- Arithmetic operfations like Adding,subtracting or multiplying a Decimal object by a floating-point value is generates an error.\n",
    "- To perform these kind of operations, the floating point number has to be converted to a Decimal."
   ]
  },
  {
   "cell_type": "markdown",
   "id": "4dfb6eee",
   "metadata": {},
   "source": [
    "### 7. Using the Fraction class but not the Decimal class, give an example of a quantity that can be expressed with absolute precision."
   ]
  },
  {
   "cell_type": "code",
   "execution_count": 1,
   "id": "13a6c421",
   "metadata": {},
   "outputs": [
    {
     "name": "stdout",
     "output_type": "stream",
     "text": [
      "1/2\n"
     ]
    }
   ],
   "source": [
    "from fractions import Fraction\n",
    "val=0.5\n",
    "result=Fraction(val)\n",
    "print(result)"
   ]
  },
  {
   "cell_type": "markdown",
   "id": "54793f8c",
   "metadata": {},
   "source": [
    "### 8. Describe a quantity that can be accurately expressed by the Decimal or Fraction classes but not by a floating-point value."
   ]
  },
  {
   "cell_type": "code",
   "execution_count": 3,
   "id": "f6646ca2",
   "metadata": {},
   "outputs": [
    {
     "name": "stdout",
     "output_type": "stream",
     "text": [
      "decimal =  0.01\n",
      "fraction= 1/100\n",
      "float value= 0.010000000000000002\n"
     ]
    }
   ],
   "source": [
    "from decimal import Decimal\n",
    "\n",
    "mul = Decimal('0.1') * Decimal('0.1')\n",
    "print(\"decimal = \",mul)\n",
    "fr_mul = Fraction('1/10') * Fraction('1/10')\n",
    "print(\"fraction=\",fr_mul)\n",
    "fl_mul = 0.1*0.1\n",
    "print(\"float value=\",fl_mul)"
   ]
  },
  {
   "cell_type": "markdown",
   "id": "d0d0fa14",
   "metadata": {},
   "source": [
    "### Q9.Consider the following two fraction objects: Fraction(1, 2) and Fraction(1, 2). (5, 10). Is the internal state of these two objects the same? Why do you think that is?\n",
    "- Yes, the internal state of both object will be same.\n",
    "- because, at the end value of both the object will reduce to 1/2."
   ]
  },
  {
   "cell_type": "markdown",
   "id": "2ffa0766",
   "metadata": {},
   "source": [
    "### Q10. How do the Fraction class and the integer type (int) relate to each other? Containment or inheritance?\n",
    "- Fraction class and integer type(int) are related in form of a container.\n",
    "- It contains two ints, one the numerator and the other the denominator"
   ]
  },
  {
   "cell_type": "code",
   "execution_count": 6,
   "id": "08945c45",
   "metadata": {},
   "outputs": [
    {
     "name": "stdout",
     "output_type": "stream",
     "text": [
      "Numerator (<class 'int'>) : 1\n",
      "Denominator (<class 'int'>) : 2\n"
     ]
    }
   ],
   "source": [
    "f = Fraction(1,2)\n",
    "print(f'Numerator ({type(f.numerator)}) : {f.numerator}')\n",
    "print(f'Denominator ({type(f.numerator)}) : {f.denominator}')"
   ]
  }
 ],
 "metadata": {
  "kernelspec": {
   "display_name": "Python 3 (ipykernel)",
   "language": "python",
   "name": "python3"
  },
  "language_info": {
   "codemirror_mode": {
    "name": "ipython",
    "version": 3
   },
   "file_extension": ".py",
   "mimetype": "text/x-python",
   "name": "python",
   "nbconvert_exporter": "python",
   "pygments_lexer": "ipython3",
   "version": "3.10.6"
  }
 },
 "nbformat": 4,
 "nbformat_minor": 5
}
