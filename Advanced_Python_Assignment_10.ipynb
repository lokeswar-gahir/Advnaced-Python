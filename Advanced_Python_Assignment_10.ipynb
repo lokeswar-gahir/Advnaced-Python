{
 "cells": [
  {
   "cell_type": "markdown",
   "id": "1a2ac221",
   "metadata": {},
   "source": [
    "### Q1. What is the difference between \\_\\_getattr\\_\\_ and \\_\\_getattribute\\_\\_?\n",
    "- \\_\\_getattr\\_\\_ : it is called for attributes that don't actually exist on a class\n",
    "- \\_\\_getattribute\\_\\_: It raises an AttributeError if it fails to find an attribute in a class"
   ]
  },
  {
   "cell_type": "markdown",
   "id": "84da8c2a",
   "metadata": {},
   "source": [
    "### Q2. What is the difference between properties and descriptors?\n",
    "- Properties: We can bind getter, setter functions with an attribute name, using the built-in property function\n",
    "- descriptor: We can bind getter, setter, deleter functions into a separate class, then assign an object of this class to the attribute name."
   ]
  },
  {
   "cell_type": "markdown",
   "id": "c0b5b43f",
   "metadata": {},
   "source": [
    "### Q3. What are the key differences in functionality between \\_\\_getattr\\_\\_ and \\_\\_getattribute\\_\\_, as well as properties and descriptors?\n",
    "- \\_\\_getattr\\_\\_: Python will call this method whenever you request an attribute that hasn't already been defined<br>\n",
    "\n",
    "- \\_\\_getattribute\\_\\_ : This method will invoked before looking at the actual attributes on the object. Means,if we have \\_\\_getattribute\\_\\_ method in our class, python invokes this method for every attribute regardless whether it exists or not<br>\n",
    "\n",
    "- Properties: With Properties we can bind getter, setter and delete functions together with an attribute name, using the built-in property function or @property decorator. When we do this, each reference to an attribute looks like simple, direct access, but involes the appropriate function of the object<br>\n",
    "\n",
    "- Descriptor: With Descriptor we can bind getter, setter and delete functions into a seperate class. we then assign an object of this class to the attribute name in our main class. When we do this, each reference to an attribute looks like simple, direct access but invokes an appropriate function of descriptor object<br>"
   ]
  }
 ],
 "metadata": {
  "kernelspec": {
   "display_name": "Python 3 (ipykernel)",
   "language": "python",
   "name": "python3"
  },
  "language_info": {
   "codemirror_mode": {
    "name": "ipython",
    "version": 3
   },
   "file_extension": ".py",
   "mimetype": "text/x-python",
   "name": "python",
   "nbconvert_exporter": "python",
   "pygments_lexer": "ipython3",
   "version": "3.10.6"
  }
 },
 "nbformat": 4,
 "nbformat_minor": 5
}
