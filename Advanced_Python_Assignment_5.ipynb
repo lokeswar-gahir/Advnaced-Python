{
 "cells": [
  {
   "cell_type": "raw",
   "id": "fad78453",
   "metadata": {},
   "source": [
    "Q1. What is the meaning of multiple inheritance?\n",
    "\n",
    "Q2. What is the concept of delegation?\n",
    "\n",
    "Q3. What is the concept of composition?\n",
    "\n",
    "Q4. What are bound methods and how do we use them?\n",
    "\n",
    "Q5. What is the purpose of pseudoprivate attributes?"
   ]
  },
  {
   "cell_type": "markdown",
   "id": "8f1c3398",
   "metadata": {},
   "source": [
    "### Q1. What is the meaning of multiple inheritance?\n",
    "When a class inherits the attributes and methods of multiple classes that is called multiple inheritance."
   ]
  },
  {
   "cell_type": "markdown",
   "id": "3ad1c878",
   "metadata": {},
   "source": [
    "### Q2. What is the concept of delegation?\n",
    "- Delegation means it Wraps the object of main class into a smaller object with limited access.\n",
    "- Simply you can include a instance of another class as an instance variable, and forward messages to the instance."
   ]
  },
  {
   "cell_type": "markdown",
   "id": "330408ea",
   "metadata": {},
   "source": [
    "### Q3. What is the concept of composition?\n",
    "- In the concept of Composition, a class refers to one or more other classes by using instances of those classes as a instance variable.\n",
    "- Irrespective of inheritence in this approach all the parent class members are not inherited into child class, but only required methods from a class are used by using class instances."
   ]
  },
  {
   "cell_type": "markdown",
   "id": "6b222fc5",
   "metadata": {},
   "source": [
    "### Q4. What are bound methods and how do we use them?\n",
    "- If a function is an attribute of class and it is accessed via the instances, they are called bound methods.\n",
    "- A bound method is one that has self as its first argument.\n",
    "- Since these are dependent on the instance of classes, these are also known as instance methods.\n"
   ]
  },
  {
   "cell_type": "code",
   "execution_count": 5,
   "id": "944f0485",
   "metadata": {},
   "outputs": [
    {
     "data": {
      "text/plain": [
       "'name :abc age :22 salary :51000'"
      ]
     },
     "execution_count": 5,
     "metadata": {},
     "output_type": "execute_result"
    }
   ],
   "source": [
    "class Employee:\n",
    "    def __init__(self,name,age,salary):\n",
    "        self.name = name\n",
    "        self.age = age\n",
    "        self.salary = salary\n",
    "    def info(self):\n",
    "        return f\"name :{self.name} age :{self.age} salary :{self.salary}\"\n",
    "e1 = Employee(\"abc\",22,51000)\n",
    "e1.info()"
   ]
  },
  {
   "cell_type": "markdown",
   "id": "3616c712",
   "metadata": {},
   "source": [
    "The above info() is an example of bound method."
   ]
  },
  {
   "cell_type": "markdown",
   "id": "82ca7d52",
   "metadata": {},
   "source": [
    "### Q5. What is the purpose of pseudoprivate attributes?\n",
    "pseudoprivate attributes are the attribute which are declared with double underscore(\\_\\_) attched with its name which means this attribute or method is only accessable to the class in which it is declared with some special way."
   ]
  },
  {
   "cell_type": "code",
   "execution_count": 6,
   "id": "9d8d5a9b",
   "metadata": {},
   "outputs": [
    {
     "ename": "AttributeError",
     "evalue": "'user' object has no attribute '__pass'",
     "output_type": "error",
     "traceback": [
      "\u001b[1;31m---------------------------------------------------------------------------\u001b[0m",
      "\u001b[1;31mAttributeError\u001b[0m                            Traceback (most recent call last)",
      "Input \u001b[1;32mIn [6]\u001b[0m, in \u001b[0;36m<cell line: 6>\u001b[1;34m()\u001b[0m\n\u001b[0;32m      4\u001b[0m         \u001b[38;5;28mself\u001b[39m\u001b[38;5;241m.\u001b[39m__pass \u001b[38;5;241m=\u001b[39m password\n\u001b[0;32m      5\u001b[0m user1 \u001b[38;5;241m=\u001b[39m user(\u001b[38;5;241m122\u001b[39m,\u001b[38;5;241m1001\u001b[39m)\n\u001b[1;32m----> 6\u001b[0m \u001b[43muser1\u001b[49m\u001b[38;5;241;43m.\u001b[39;49m\u001b[43m__pass\u001b[49m\n",
      "\u001b[1;31mAttributeError\u001b[0m: 'user' object has no attribute '__pass'"
     ]
    }
   ],
   "source": [
    "class user:\n",
    "    def __init__(self,u_id,password):\n",
    "        self.u_id = u_id\n",
    "        self.__pass = password\n",
    "user1 = user(122,1001)\n",
    "user1.__pass"
   ]
  },
  {
   "cell_type": "code",
   "execution_count": 7,
   "id": "4c17bdc7",
   "metadata": {},
   "outputs": [
    {
     "data": {
      "text/plain": [
       "1001"
      ]
     },
     "execution_count": 7,
     "metadata": {},
     "output_type": "execute_result"
    }
   ],
   "source": [
    "user1._user__pass"
   ]
  }
 ],
 "metadata": {
  "kernelspec": {
   "display_name": "Python 3 (ipykernel)",
   "language": "python",
   "name": "python3"
  },
  "language_info": {
   "codemirror_mode": {
    "name": "ipython",
    "version": 3
   },
   "file_extension": ".py",
   "mimetype": "text/x-python",
   "name": "python",
   "nbconvert_exporter": "python",
   "pygments_lexer": "ipython3",
   "version": "3.10.6"
  }
 },
 "nbformat": 4,
 "nbformat_minor": 5
}
