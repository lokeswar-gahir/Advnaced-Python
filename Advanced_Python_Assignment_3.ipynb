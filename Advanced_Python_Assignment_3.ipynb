{
 "cells": [
  {
   "cell_type": "markdown",
   "id": "d35837f2",
   "metadata": {},
   "source": [
    "### 1. What is the concept of an abstract superclass?\n",
    "- The inheritors of abstract base class should implement all the abstractmethods in order to instantiate an object.\n",
    "- Doing otherwise will raise an error."
   ]
  },
  {
   "cell_type": "markdown",
   "id": "33296c5d",
   "metadata": {},
   "source": [
    "### 2. What happens when a class statement&#39;s top level contains a basic assignment statement?\n",
    "When a class's top level contains a basic assignment statement it means that it is a class variable which is not going to change in any of the instances created using that class."
   ]
  },
  {
   "cell_type": "markdown",
   "id": "a37348d6",
   "metadata": {},
   "source": [
    "### 3. Why does a class need to manually call a superclass&#39;s __init__ method?\n",
    "By calling super().\\_\\_init__() we are able to access the class attribute and instance attribute of the super class."
   ]
  },
  {
   "cell_type": "markdown",
   "id": "ea53ca09",
   "metadata": {},
   "source": [
    "### 4. How can you augment, instead of completely replacing, an inherited method?\n",
    "super() method can be used to augment, instead of completely replacing, an inherited method."
   ]
  },
  {
   "cell_type": "markdown",
   "id": "c4d6d0e4",
   "metadata": {},
   "source": [
    "### 5. How is the local scope of a class different from that of a function?\n",
    "- If a variable is inside the local scope of a function then that variable is not be accessable from outside of its scope. \n",
    "- Where as the variable inside the class block but outside of any method is called class attribute is still inside the class's scope but it can be accessed using any instance of the object.\n",
    "    - example : obj.class_attribute"
   ]
  }
 ],
 "metadata": {
  "kernelspec": {
   "display_name": "Python 3 (ipykernel)",
   "language": "python",
   "name": "python3"
  },
  "language_info": {
   "codemirror_mode": {
    "name": "ipython",
    "version": 3
   },
   "file_extension": ".py",
   "mimetype": "text/x-python",
   "name": "python",
   "nbconvert_exporter": "python",
   "pygments_lexer": "ipython3",
   "version": "3.10.6"
  }
 },
 "nbformat": 4,
 "nbformat_minor": 5
}
