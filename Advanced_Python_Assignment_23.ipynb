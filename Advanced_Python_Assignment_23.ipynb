{
 "cells": [
  {
   "cell_type": "markdown",
   "id": "9c7af731",
   "metadata": {},
   "source": [
    "### Q1. If you have any, what are your choices for increasing the comparison between different figures on the same graph?\n",
    "- using seaborn's kde-plot we can increase the comparison different figures.\n",
    "- Matplotlib provides a convenient method called subplots which also increases the graph comparison."
   ]
  },
  {
   "cell_type": "markdown",
   "id": "68707282",
   "metadata": {},
   "source": [
    "### Q2. Can you explain the benefit of compound interest over a higher rate of interest that does not compound after reading this chapter?\n",
    "Benifit of Compound interest is that its interest is calculated on both principal amount and previously added interest amount that is the reason it grows faster, whereas in simple interest interest is calculated only on principal amount and does not add previous interest."
   ]
  },
  {
   "cell_type": "markdown",
   "id": "22fc3218",
   "metadata": {},
   "source": [
    "### Q3. What is a histogram, exactly? Name a numpy method for creating such a graph.\n",
    "- Histogram is a bucket like bar chart where each bar has a specific range in which the count is represented as a bar.\n",
    "- In the X-axis range is defined and in the Y-axis count is represented.\n",
    "- numpy.histogram() is the function in numpy for histogram."
   ]
  },
  {
   "cell_type": "markdown",
   "id": "77448c96",
   "metadata": {},
   "source": [
    "### Q4. If necessary, how do you change the aspect ratios between the X and Y axes?\n",
    "By using figure() function from the matplot.pyplot library to scale the graph."
   ]
  },
  {
   "cell_type": "markdown",
   "id": "aa037ba8",
   "metadata": {},
   "source": [
    "### Q5. Compare and contrast the three types of array multiplication between two numpy arrays: dot product, outer product, and regular multiplication of two numpy arrays."
   ]
  },
  {
   "cell_type": "code",
   "execution_count": 2,
   "id": "eb6a84cb",
   "metadata": {},
   "outputs": [],
   "source": [
    "import numpy as np\n",
    "arr1 = np.array([[1,1,1], [2,2,2], [3,3,3]])\n",
    "arr2 = np.array([[1,2,3], [4,5,6], [7,8,9]])"
   ]
  },
  {
   "cell_type": "code",
   "execution_count": 3,
   "id": "afa83306",
   "metadata": {},
   "outputs": [
    {
     "data": {
      "text/plain": [
       "array([[ 1,  2,  3],\n",
       "       [ 8, 10, 12],\n",
       "       [21, 24, 27]])"
      ]
     },
     "execution_count": 3,
     "metadata": {},
     "output_type": "execute_result"
    }
   ],
   "source": [
    "arr1 * arr2"
   ]
  },
  {
   "cell_type": "markdown",
   "id": "eee271e9",
   "metadata": {},
   "source": [
    "The above one is simple multiplication. ex : result at [0][0] = arr1[0][0]* arr2[0][0] "
   ]
  },
  {
   "cell_type": "code",
   "execution_count": 4,
   "id": "ec99f127",
   "metadata": {},
   "outputs": [
    {
     "data": {
      "text/plain": [
       "array([[12, 15, 18],\n",
       "       [24, 30, 36],\n",
       "       [36, 45, 54]])"
      ]
     },
     "execution_count": 4,
     "metadata": {},
     "output_type": "execute_result"
    }
   ],
   "source": [
    "np.dot(arr1, arr2)"
   ]
  },
  {
   "cell_type": "markdown",
   "id": "be01f4b3",
   "metadata": {},
   "source": [
    "The above one is metrix multiplication."
   ]
  },
  {
   "cell_type": "code",
   "execution_count": 6,
   "id": "9c441bc9",
   "metadata": {},
   "outputs": [
    {
     "data": {
      "text/plain": [
       "array([[ 1,  2,  3,  4,  5,  6,  7,  8,  9],\n",
       "       [ 1,  2,  3,  4,  5,  6,  7,  8,  9],\n",
       "       [ 1,  2,  3,  4,  5,  6,  7,  8,  9],\n",
       "       [ 2,  4,  6,  8, 10, 12, 14, 16, 18],\n",
       "       [ 2,  4,  6,  8, 10, 12, 14, 16, 18],\n",
       "       [ 2,  4,  6,  8, 10, 12, 14, 16, 18],\n",
       "       [ 3,  6,  9, 12, 15, 18, 21, 24, 27],\n",
       "       [ 3,  6,  9, 12, 15, 18, 21, 24, 27],\n",
       "       [ 3,  6,  9, 12, 15, 18, 21, 24, 27]])"
      ]
     },
     "execution_count": 6,
     "metadata": {},
     "output_type": "execute_result"
    }
   ],
   "source": [
    "np.outer(arr1, arr2)"
   ]
  },
  {
   "cell_type": "markdown",
   "id": "e941b130",
   "metadata": {},
   "source": [
    "In the above multiplication each element of first array is multiplied with each element of second array. "
   ]
  },
  {
   "cell_type": "markdown",
   "id": "11550781",
   "metadata": {},
   "source": [
    "### Q6. Before you buy a home, which numpy function will you use to measure your monthly mortgage payment?\n",
    "np.pmt() function we will be using in order to calculate monthly mortgage payment before you purchase a house."
   ]
  },
  {
   "cell_type": "markdown",
   "id": "507927c1",
   "metadata": {},
   "source": [
    "### Q7. Can string data be stored in numpy arrays? If so, list at least one restriction that applies to this data.\n",
    "- Yes, an array can store the string.\n",
    "- The limitation which imposed on the string data is, whenever we store the data of string dtype then it should should keep in mind that the string which is having the maximum length is the limit."
   ]
  }
 ],
 "metadata": {
  "kernelspec": {
   "display_name": "Python 3 (ipykernel)",
   "language": "python",
   "name": "python3"
  },
  "language_info": {
   "codemirror_mode": {
    "name": "ipython",
    "version": 3
   },
   "file_extension": ".py",
   "mimetype": "text/x-python",
   "name": "python",
   "nbconvert_exporter": "python",
   "pygments_lexer": "ipython3",
   "version": "3.10.6"
  }
 },
 "nbformat": 4,
 "nbformat_minor": 5
}
