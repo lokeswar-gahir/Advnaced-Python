{
 "cells": [
  {
   "cell_type": "raw",
   "id": "eed40b71",
   "metadata": {},
   "source": [
    "Q1. What is a probability distribution, exactly? If the values are meant to be random, how can you\n",
    "predict them at all?\n",
    "\n",
    "Q2. Is there a distinction between true random numbers and pseudo-random numbers, if there is\n",
    "one? Why are the latter considered “good enough”?\n",
    "\n",
    "Q3. What are the two main factors that influence the behaviour of a &quot;normal&quot; probability distribution?\n",
    "\n",
    "Q4. Provide a real-life example of a normal distribution.\n",
    "\n",
    "Q5. In the short term, how can you expect a probability distribution to behave? What do you think will\n",
    "happen as the number of trials grows?\n",
    "\n",
    "Q6. What kind of object can be shuffled by using random.shuffle?\n",
    "\n",
    "Q7. Describe the math package&#39;s general categories of functions.\n",
    "\n",
    "Q8. What is the relationship between exponentiation and logarithms?\n",
    "\n",
    "Q9. What are the three logarithmic functions that Python supports?"
   ]
  },
  {
   "cell_type": "markdown",
   "id": "2cb17775",
   "metadata": {},
   "source": [
    "### Q1. What is a probability distribution, exactly? If the values are meant to be random, how can you predict them at all?\n",
    "- Probablity distribution is the distribution of data in such a way that they are distrubuted based on the probability of occurence of different outcomes in the experiment.\n",
    "- The predicted values are the probability occurrence of the outcomes.\n",
    "- They can be find out by using some probability density function formulae.\n",
    "- This will give the prabability of occurrence of the outcome."
   ]
  },
  {
   "cell_type": "markdown",
   "id": "31fb473e",
   "metadata": {},
   "source": [
    "### Q2. Is there a distinction between true random numbers and pseudo-random numbers, if there is one? Why are the latter considered “good enough”?\n",
    "- True Random Numbers are true physical values and pseudo-random numbers are generated internally by some algorithm.\n",
    "- Latter is considered good enough because they have some kind of uniform distribution."
   ]
  },
  {
   "cell_type": "markdown",
   "id": "b91b81ba",
   "metadata": {},
   "source": [
    "### Q3. What are the two main factors that influence the behaviour of a &quot;normal&quot; probability distribution?\n",
    "The behaviour of a normal probability distribution depends upon : mean and variance."
   ]
  },
  {
   "cell_type": "markdown",
   "id": "d3dd3b03",
   "metadata": {},
   "source": [
    "### Q4. Provide a real-life example of a normal distribution.\n",
    "One of the real-life example can be : height of the population."
   ]
  },
  {
   "cell_type": "markdown",
   "id": "e1586515",
   "metadata": {},
   "source": [
    "### Q5. In the short term, how can you expect a probability distribution to behave? What do you think will happen as the number of trials grows?\n",
    "when number of trails are less variance will be larger, when number of trails grows variance will decrease."
   ]
  },
  {
   "cell_type": "markdown",
   "id": "bb306811",
   "metadata": {},
   "source": [
    "### Q6. What kind of object can be shuffled by using random.shuffle?\n",
    "Using random.shuffle list can be shuffled."
   ]
  },
  {
   "cell_type": "markdown",
   "id": "168d9000",
   "metadata": {},
   "source": [
    "### Q7. Describe the math package&#39;s general categories of functions.\n",
    "The available general catagories functions in math package are :\n",
    "1. Trigonometric functions\n",
    "2. Quadratic functions\n",
    "3. Exponential functions\n",
    "4. Hyperbolic functions\n",
    "5. Periodic functions\n",
    "6. Arithmetic functions\n",
    "7. Logarithimic functions\n",
    "8. Conversions to Integer"
   ]
  },
  {
   "cell_type": "markdown",
   "id": "bd1e965e",
   "metadata": {},
   "source": [
    "### Q8. What is the relationship between exponentiation and logarithms?\n",
    "- Logarithmic functions are the inverses of exponential functions.\n",
    "- A logarithm is an exponent which indicates to what power a base must be raised to produce a given number."
   ]
  },
  {
   "cell_type": "markdown",
   "id": "3cc51694",
   "metadata": {},
   "source": [
    "### Q9. What are the three logarithmic functions that Python supports?\n",
    "Python supported logarithmic functions are:\n",
    "\n",
    "- log2(x) - logarithmic value of x with base 2\n",
    "- log10(x) - logarithmic value of x with base 10\n",
    "- log1p(a) - This function is used to compute logarithm(1+a) ."
   ]
  }
 ],
 "metadata": {
  "kernelspec": {
   "display_name": "Python 3 (ipykernel)",
   "language": "python",
   "name": "python3"
  },
  "language_info": {
   "codemirror_mode": {
    "name": "ipython",
    "version": 3
   },
   "file_extension": ".py",
   "mimetype": "text/x-python",
   "name": "python",
   "nbconvert_exporter": "python",
   "pygments_lexer": "ipython3",
   "version": "3.10.6"
  }
 },
 "nbformat": 4,
 "nbformat_minor": 5
}
