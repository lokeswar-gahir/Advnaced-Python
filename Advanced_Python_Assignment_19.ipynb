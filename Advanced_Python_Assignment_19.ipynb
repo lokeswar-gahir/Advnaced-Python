{
 "cells": [
  {
   "cell_type": "raw",
   "id": "57d2ca22",
   "metadata": {},
   "source": [
    "Q1. Define the relationship between a class and its instances. Is it a one-to-one or a one-to-many\n",
    "partnership, for example?\n",
    "\n",
    "Q2. What kind of data is held only in an instance?\n",
    "\n",
    "Q3. What kind of knowledge is stored in a class?\n",
    "\n",
    "Q4. What exactly is a method, and how is it different from a regular function?\n",
    "\n",
    "Q5. Is inheritance supported in Python, and if so, what is the syntax?\n",
    "\n",
    "Q6. How much encapsulation (making instance or class variables private) does Python support?\n",
    "\n",
    "Q7. How do you distinguish between a class variable and an instance variable?\n",
    "\n",
    "Q8. When, if ever, can self be included in a class&#39;s method definitions?\n",
    "\n",
    "Q9. What is the difference between the _ _add_ _ and the _ _radd_ _ methods?\n",
    "\n",
    "Q10. When is it necessary to use a reflection method? When do you not need it, even though you\n",
    "support the operation in question?\n",
    "\n",
    "Q11. What is the _ _iadd_ _ method called?\n",
    "\n",
    "Q12. Is the _ _init_ _ method inherited by subclasses? What do you do if you need to customize its\n",
    "behavior within a subclass?"
   ]
  },
  {
   "cell_type": "markdown",
   "id": "f63c1100",
   "metadata": {},
   "source": [
    "### Q1. Define the relationship between a class and its instances. Is it a one-to-one or a one-to-many partnership, for example?\n",
    "- Class is an abstraction of real world entity.\n",
    "- Instance is an object of a class.\n",
    "- There is one-to-many relationship between class to instance."
   ]
  },
  {
   "cell_type": "markdown",
   "id": "7f36c9f0",
   "metadata": {},
   "source": [
    "### Q2. What kind of data is held only in an instance?\n",
    "Instance holds instance variables, instance methods and static methods of class. "
   ]
  },
  {
   "cell_type": "markdown",
   "id": "2ffef94c",
   "metadata": {},
   "source": [
    "### Q3. What kind of knowledge is stored in a class?\n",
    "- Class creates a user-defined data structure, which holds its own data members and member functions, which can be accessed and used by creating an instance of that class.\n",
    "- A class is like a blueprint for an object."
   ]
  },
  {
   "cell_type": "markdown",
   "id": "da2d4677",
   "metadata": {},
   "source": [
    "### Q4. What exactly is a method, and how is it different from a regular function?\n",
    "- __method__ : a method is also a function, but it is present inside a class and uses object instances.\n",
    "- __function__ : a function is a piece of code which is independent of any class, and may require some arguments."
   ]
  },
  {
   "cell_type": "markdown",
   "id": "0f80a0b9",
   "metadata": {},
   "source": [
    "### Q5. Is inheritance supported in Python, and if so, what is the syntax?\n",
    "Yes, both single and multiple inheritance is supported in python.<br>\n",
    "Syntax :<br>\n",
    "```python\n",
    "class parent:\n",
    "    pass\n",
    "class child(parent):\n",
    "    pass\n",
    "```\n",
    "Here, the parent class is being inherited by child class."
   ]
  },
  {
   "cell_type": "markdown",
   "id": "e09ad626",
   "metadata": {},
   "source": [
    "### Q6. How much encapsulation (making instance or class variables private) does Python support?\n",
    "- Encapsulation describes the idea of wrapping data and the methods that work on data within one unit.\n",
    "- This puts restrictions on accessing variables and methods directly and can prevent the accidental modification of data.\n",
    "- To prevent accidental change, an objects variable can only be changed by an objects method."
   ]
  },
  {
   "cell_type": "markdown",
   "id": "ff5f90a3",
   "metadata": {},
   "source": [
    "### Q7. How do you distinguish between a class variable and an instance variable?\n",
    "- If a variable is accessed by an instance then it is an instance variable.\n",
    "- If a variable can be accessed by both instance and class then it is a class variable."
   ]
  },
  {
   "cell_type": "code",
   "execution_count": 1,
   "id": "6e0c76aa",
   "metadata": {},
   "outputs": [],
   "source": [
    "class A:\n",
    "    value = 0\n",
    "    def __init__(self,val):\n",
    "        self.val1 = val\n",
    "        self.val2 = self.val1 + 1"
   ]
  },
  {
   "cell_type": "code",
   "execution_count": 2,
   "id": "dd96679a",
   "metadata": {},
   "outputs": [
    {
     "name": "stdout",
     "output_type": "stream",
     "text": [
      "23\n",
      "24\n"
     ]
    }
   ],
   "source": [
    "a = A(23)\n",
    "\n",
    "print(a.val1)# instance variables\n",
    "print(a.val2)# instance variables"
   ]
  },
  {
   "cell_type": "code",
   "execution_count": 3,
   "id": "cf35f1f9",
   "metadata": {},
   "outputs": [
    {
     "ename": "AttributeError",
     "evalue": "type object 'A' has no attribute 'val1'",
     "output_type": "error",
     "traceback": [
      "\u001b[1;31m---------------------------------------------------------------------------\u001b[0m",
      "\u001b[1;31mAttributeError\u001b[0m                            Traceback (most recent call last)",
      "Input \u001b[1;32mIn [3]\u001b[0m, in \u001b[0;36m<cell line: 1>\u001b[1;34m()\u001b[0m\n\u001b[1;32m----> 1\u001b[0m \u001b[43mA\u001b[49m\u001b[38;5;241;43m.\u001b[39;49m\u001b[43mval1\u001b[49m\n",
      "\u001b[1;31mAttributeError\u001b[0m: type object 'A' has no attribute 'val1'"
     ]
    }
   ],
   "source": [
    "A.val1# trying to access instance variable using class"
   ]
  },
  {
   "cell_type": "code",
   "execution_count": 4,
   "id": "03159ba1",
   "metadata": {},
   "outputs": [
    {
     "name": "stdout",
     "output_type": "stream",
     "text": [
      "0\n",
      "0\n"
     ]
    }
   ],
   "source": [
    "print(a.value)# class variable accessed using instance\n",
    "print(A.value)# class variable accessed using class"
   ]
  },
  {
   "cell_type": "markdown",
   "id": "18ebc0b3",
   "metadata": {},
   "source": [
    "### Q8. When, if ever, can self be included in a class&#39;s method definitions?\n",
    "- When we want to access the instance variables we include self in the methods.\n",
    "- These methods are called instance methods, which can only be accessed by an instance."
   ]
  },
  {
   "cell_type": "markdown",
   "id": "cff85c98",
   "metadata": {},
   "source": [
    "### Q9. What is the difference between the _ _add_ _ and the _ _radd_ _ methods?\n",
    "Entering \\_\\_radd\\_\\_ Python will first try \\_\\_add\\_\\_ and if that returns not implemented, python will check if the right-hand operand implements \\_\\_radd\\_\\_, and if it does, it will call \\_\\_radd\\_\\_ rather than raising a TypeError."
   ]
  },
  {
   "cell_type": "markdown",
   "id": "17c66224",
   "metadata": {},
   "source": [
    "### Q10. When is it necessary to use a reflection method? When do you not need it, even though you support the operation in question?\n",
    "Reflection method we often encounter the requirement that a method in the executing object, or a variable in the calling object, or a field of the object should be assigned, while the method name or field name can not be determined when encoding the code, and need to be input in the form of passing strings through parameters."
   ]
  },
  {
   "cell_type": "markdown",
   "id": "8f4b70d2",
   "metadata": {},
   "source": [
    "### Q11. What is the \\_\\_iadd\\_\\_ method called?\n",
    "The \\_\\_iadd\\_\\_ method is called when we want to implement a+=b kind of operation."
   ]
  },
  {
   "cell_type": "markdown",
   "id": "33276575",
   "metadata": {},
   "source": [
    "### Q12. Is the \\_\\_init\\_\\_ method inherited by subclasses? What do you do if you need to customize its behavior within a subclass?\n",
    "- Yes, the \\_\\_init\\_\\_ method is inherited by the subclasses.\n",
    "- To customize its behavior within a subclass we can use super method."
   ]
  }
 ],
 "metadata": {
  "kernelspec": {
   "display_name": "Python 3 (ipykernel)",
   "language": "python",
   "name": "python3"
  },
  "language_info": {
   "codemirror_mode": {
    "name": "ipython",
    "version": 3
   },
   "file_extension": ".py",
   "mimetype": "text/x-python",
   "name": "python",
   "nbconvert_exporter": "python",
   "pygments_lexer": "ipython3",
   "version": "3.10.6"
  }
 },
 "nbformat": 4,
 "nbformat_minor": 5
}
