{
 "cells": [
  {
   "cell_type": "markdown",
   "id": "56bedf3c",
   "metadata": {},
   "source": [
    "### Q1. What is the purpose of Python&#39;s OOP?\n",
    "__There are 4 core concepts of Object Oriented Programming(OOP):__\n",
    "#### 1. Encapsulation\n",
    "    - OOP restricts direct access to its methods and variables by encapsulating the code and data together.\n",
    "#### 2. Abstraction\n",
    "    - Abstraction feature is used for hiding internal details and showing the functionality only.\n",
    "#### 3. Inheritance\n",
    "    - The property of acquiring all the properties and behaviors of the parent object by an object is termed as inheritance.\n",
    "#### 4. Polymorphism\n",
    "    - Polymorphism means that one task can be performed in many ways."
   ]
  },
  {
   "cell_type": "markdown",
   "id": "23c05e5a",
   "metadata": {},
   "source": [
    "### Q2. Where does an inheritance search look for an attribute?\n",
    "First it will search in its object instance attribute then its class attribute then it will search in its parent class and all above classes from which it inherits."
   ]
  },
  {
   "cell_type": "markdown",
   "id": "edba1185",
   "metadata": {},
   "source": [
    "### Q3. How do you distinguish between a class object and an instance object?\n",
    "- Class is a template for creating objects whereas object is an instance of class\n",
    "- Seperate memory is allocated for each object whenever an object is created, this does not happens for a class\n",
    "- A class is created once and from that class many objects are created\n",
    "- As classes have no allocated memory, they can't be manipulated where as objects can be manipulated"
   ]
  },
  {
   "cell_type": "markdown",
   "id": "9ac3860b",
   "metadata": {},
   "source": [
    "### Q4. What makes the first argument in a class’s method function special?\n",
    "The first argument that is provided to a class method is \"self\" which actually refers to itself as an object and because of an object is created to use that method we do not have to pass a parameter explicitly."
   ]
  },
  {
   "cell_type": "markdown",
   "id": "4597eba9",
   "metadata": {},
   "source": [
    "### Q5. What is the purpose of the __init__ method?\n",
    " The \"\\_\\_init__\" method is also known as constructor is used to accept the arguments at the time of instance creation."
   ]
  },
  {
   "cell_type": "markdown",
   "id": "91ccae61",
   "metadata": {},
   "source": [
    "### Q6. What is the process for creating a class instance?\n",
    "1. First of all we need to define a class\n",
    "2. Call the class by passing the required parameters and assign it to a variable\n",
    "3. Now the variable is an instance of that class and we can access the methods of the class using that variable(object)."
   ]
  },
  {
   "cell_type": "markdown",
   "id": "408a4ce8",
   "metadata": {},
   "source": [
    "### Q7. What is the process for creating a class?\n",
    "1. By using \"class\" keyword we can create a class\n",
    "2. After that we can define the constructor and other methods"
   ]
  },
  {
   "cell_type": "markdown",
   "id": "60f4aa80",
   "metadata": {},
   "source": [
    "### Q8. How would you define the superclasses of a class?"
   ]
  },
  {
   "cell_type": "code",
   "execution_count": 1,
   "id": "05ece8a4",
   "metadata": {},
   "outputs": [],
   "source": [
    "class father:\n",
    "    def can_dance(self):\n",
    "        return f\"yes,dancing now.\"\n",
    "class child(father):\n",
    "    def can_swim(self):\n",
    "        return f\"yes,swimming now.\""
   ]
  },
  {
   "cell_type": "code",
   "execution_count": 2,
   "id": "56027397",
   "metadata": {},
   "outputs": [
    {
     "data": {
      "text/plain": [
       "'yes,dancing now.'"
      ]
     },
     "execution_count": 2,
     "metadata": {},
     "output_type": "execute_result"
    }
   ],
   "source": [
    "c = child()\n",
    "c.can_dance()"
   ]
  },
  {
   "cell_type": "code",
   "execution_count": 3,
   "id": "1ad38c46",
   "metadata": {},
   "outputs": [
    {
     "data": {
      "text/plain": [
       "'yes,swimming now.'"
      ]
     },
     "execution_count": 3,
     "metadata": {},
     "output_type": "execute_result"
    }
   ],
   "source": [
    "c.can_swim()"
   ]
  },
  {
   "cell_type": "markdown",
   "id": "6b1ab07e",
   "metadata": {},
   "source": [
    "Here, \"father\" is the super class of \"child\" class."
   ]
  }
 ],
 "metadata": {
  "kernelspec": {
   "display_name": "Python 3 (ipykernel)",
   "language": "python",
   "name": "python3"
  },
  "language_info": {
   "codemirror_mode": {
    "name": "ipython",
    "version": 3
   },
   "file_extension": ".py",
   "mimetype": "text/x-python",
   "name": "python",
   "nbconvert_exporter": "python",
   "pygments_lexer": "ipython3",
   "version": "3.10.6"
  }
 },
 "nbformat": 4,
 "nbformat_minor": 5
}
